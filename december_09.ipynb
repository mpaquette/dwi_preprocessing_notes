{
 "cells": [
  {
   "cell_type": "markdown",
   "metadata": {},
   "source": [
    "# DWI preprocessing\n",
    "## using MRTRIX, FSL and ANTS\n",
    "### by Michael Paquette\n",
    "#### Notes from Dec 9th"
   ]
  },
  {
   "cell_type": "markdown",
   "metadata": {},
   "source": [
    "In this serie of bash notebook, I will be describing a basic DWI data preprocessing pipeline."
   ]
  },
  {
   "cell_type": "markdown",
   "metadata": {},
   "source": [
    "I will try to stick to this (loose) general format to describe each step:  \n",
    "\n",
    "- What is the artefact we are trying to correct or the transformation we are trying to achieve  \n",
    "- Why does this happen  \n",
    "- What would happen if we didnt correct/modify \n",
    "- Why is this step here (somewhat arbitrary or specific ordering)  \n",
    "- Important parameters of the tool (and which one are likely to need finetuning)  \n",
    "- What to look for when doing QC (quality control)"
   ]
  },
  {
   "cell_type": "markdown",
   "metadata": {},
   "source": [
    "## Bash refresher"
   ]
  },
  {
   "cell_type": "markdown",
   "metadata": {},
   "source": [
    "Here are a few bash commands that are enough to navigate through a typical data folder structure."
   ]
  },
  {
   "cell_type": "markdown",
   "metadata": {},
   "source": [
    "pwd  \n",
    "stands for \"print working directory\", it prints out the location (path) where you currently are."
   ]
  },
  {
   "cell_type": "code",
   "execution_count": 86,
   "metadata": {},
   "outputs": [
    {
     "name": "stdout",
     "output_type": "stream",
     "text": [
      "# We move to a specific folder and print the current location\n",
      "cd /data/pt_02586/\n",
      "pwd\n",
      "/data/pt_02586\n"
     ]
    },
    {
     "ename": "",
     "evalue": "1",
     "output_type": "error",
     "traceback": []
    }
   ],
   "source": [
    "# We move to a specific folder and print the current location\n",
    "cd /data/pt_02586/\n",
    "pwd"
   ]
  },
  {
   "cell_type": "markdown",
   "metadata": {},
   "source": [
    "ls  \n",
    "stands for \"list\", it prints out the content (files and directories) of a path. You can specify a path \"ls /path/to/somewhere\" or leave in blank to show current directory. "
   ]
  },
  {
   "cell_type": "code",
   "execution_count": 87,
   "metadata": {
    "scrolled": true
   },
   "outputs": [
    {
     "name": "stdout",
     "output_type": "stream",
     "text": [
      "# list stuff in current directory\n",
      "ls\n",
      "\"DTI_analysis.rar\"*\t\"sub_03\"/  \"sub_08\"/  \"sub_13\"/  \"sub_18\"/\n",
      "\"processing_tutorial\"/\t\"sub_04\"/  \"sub_09\"/  \"sub_14\"/  \"sub_19\"/\n",
      "\"slicesdir\"/\t\t\"sub_05\"/  \"sub_10\"/  \"sub_15\"/  \"sub_20\"/\n",
      "\"sub_01\"/\t\t\"sub_06\"/  \"sub_11\"/  \"sub_16\"/  \"sub_21\"/\n",
      "\"sub_02\"/\t\t\"sub_07\"/  \"sub_12\"/  \"sub_17\"/  \"tmp\"/\n"
     ]
    },
    {
     "ename": "",
     "evalue": "1",
     "output_type": "error",
     "traceback": []
    }
   ],
   "source": [
    "# list stuff in current directory\n",
    "ls"
   ]
  },
  {
   "cell_type": "code",
   "execution_count": 88,
   "metadata": {
    "scrolled": true
   },
   "outputs": [
    {
     "name": "stdout",
     "output_type": "stream",
     "text": [
      "# list stuff at specific path\n",
      "ls /data/pt_02586/\n",
      "\"DTI_analysis.rar\"*\t\"sub_03\"/  \"sub_08\"/  \"sub_13\"/  \"sub_18\"/\n",
      "\"processing_tutorial\"/\t\"sub_04\"/  \"sub_09\"/  \"sub_14\"/  \"sub_19\"/\n",
      "\"slicesdir\"/\t\t\"sub_05\"/  \"sub_10\"/  \"sub_15\"/  \"sub_20\"/\n",
      "\"sub_01\"/\t\t\"sub_06\"/  \"sub_11\"/  \"sub_16\"/  \"sub_21\"/\n",
      "\"sub_02\"/\t\t\"sub_07\"/  \"sub_12\"/  \"sub_17\"/  \"tmp\"/\n"
     ]
    },
    {
     "ename": "",
     "evalue": "1",
     "output_type": "error",
     "traceback": []
    }
   ],
   "source": [
    "# list stuff at specific path\n",
    "ls /data/pt_02586/"
   ]
  },
  {
   "cell_type": "markdown",
   "metadata": {},
   "source": [
    "Most bash commands have other functionality that can be accessed by giving the command some extra arguments called \"flags\". For instance, the \"ls\" command has a very usefull flag \"-l\" which stands for the \"long\" version of \"ls\" with more info "
   ]
  },
  {
   "cell_type": "code",
   "execution_count": 89,
   "metadata": {},
   "outputs": [
    {
     "name": "stdout",
     "output_type": "stream",
     "text": [
      "ls -l /data/pt_02586/\n",
      "total 2093122\n",
      "-rwxrwx--- 1 anwander users 2253253007 Nov 26 10:32 \"DTI_analysis.rar\"*\n",
      "drwxrwx--- 3 paquette users          4 Dec 13 14:19 \"processing_tutorial\"/\n",
      "drwxrwx--- 2 anwander users         54 Nov 26 11:37 \"slicesdir\"/\n",
      "drwxrwx--- 4 anwander users         16 Dec  9 16:48 \"sub_01\"/\n",
      "drwxrwx--- 3 anwander users          9 Nov 26 11:26 \"sub_02\"/\n",
      "drwxrwx--- 3 anwander users          9 Nov 26 11:27 \"sub_03\"/\n",
      "drwxrwx--- 3 anwander users          9 Nov 26 11:27 \"sub_04\"/\n",
      "drwxrwx--- 3 anwander users          9 Nov 26 11:27 \"sub_05\"/\n",
      "drwxrwx--- 3 anwander users          9 Nov 26 11:28 \"sub_06\"/\n",
      "drwxrwx--- 3 anwander users          9 Nov 26 11:28 \"sub_07\"/\n",
      "drwxrwx--- 3 anwander users          9 Nov 26 11:28 \"sub_08\"/\n",
      "drwxrwx--- 3 anwander users          9 Nov 26 11:29 \"sub_09\"/\n",
      "drwxrwx--- 3 anwander users          9 Nov 26 11:29 \"sub_10\"/\n",
      "drwxrwx--- 3 anwander users          9 Nov 26 11:29 \"sub_11\"/\n",
      "drwxrwx--- 3 anwander users          9 Nov 26 11:30 \"sub_12\"/\n",
      "drwxrwx--- 3 anwander users          9 Nov 26 11:30 \"sub_13\"/\n",
      "drwxrwx--- 3 anwander users          9 Nov 26 11:30 \"sub_14\"/\n",
      "drwxrwx--- 3 anwander users          9 Nov 26 11:31 \"sub_15\"/\n",
      "drwxrwx--- 3 anwander users          9 Nov 26 11:31 \"sub_16\"/\n",
      "drwxrwx--- 3 anwander users          9 Nov 26 11:32 \"sub_17\"/\n",
      "drwxrwx--- 3 anwander users          9 Nov 26 11:32 \"sub_18\"/\n",
      "drwxrwx--- 3 anwander users          9 Nov 26 11:32 \"sub_19\"/\n",
      "drwxrwx--- 3 anwander users          9 Nov 26 11:33 \"sub_20\"/\n",
      "drwxrwx--- 3 anwander users          9 Nov 26 11:33 \"sub_21\"/\n",
      "drwxrwx--- 4 anwander users         24 Dec  9 17:13 \"tmp\"/\n"
     ]
    },
    {
     "ename": "",
     "evalue": "1",
     "output_type": "error",
     "traceback": []
    }
   ],
   "source": [
    "ls -l /data/pt_02586/"
   ]
  },
  {
   "cell_type": "markdown",
   "metadata": {},
   "source": [
    "Personally, I almost exclusively use \"ls -lhtr\"  \n",
    "the \"-l\" flag is the long output  \n",
    "the  \"-h\" flag is the \"human readable file size\" flag, it mean that instead of printing something like \"19455325\" bytes as size, it would convert it to \"18.554MB\"  \n",
    "the \"-t\" flag sorts files by \"last modified date\" instead of the default alphabetical, newer files are at the top of the ouput.  \n",
    "the \"-r\" flag reverses the order the files are printed, making the newer one at the bottom in this case.  \n",
    "\"ls -lhtr\" could be written with a different flag ordering or by separating the flags \"ls -l -t -r -h\" but conviniently 1 letter long flags can be stacked"
   ]
  },
  {
   "cell_type": "code",
   "execution_count": 90,
   "metadata": {},
   "outputs": [
    {
     "name": "stdout",
     "output_type": "stream",
     "text": [
      "ls -lhtr\n",
      "total 2.0G\n",
      "-rwxrwx--- 1 anwander users 2.1G Nov 26 10:32 \"DTI_analysis.rar\"*\n",
      "drwxrwx--- 3 anwander users    9 Nov 26 11:26 \"sub_02\"/\n",
      "drwxrwx--- 3 anwander users    9 Nov 26 11:27 \"sub_03\"/\n",
      "drwxrwx--- 3 anwander users    9 Nov 26 11:27 \"sub_04\"/\n",
      "drwxrwx--- 3 anwander users    9 Nov 26 11:27 \"sub_05\"/\n",
      "drwxrwx--- 3 anwander users    9 Nov 26 11:28 \"sub_06\"/\n",
      "drwxrwx--- 3 anwander users    9 Nov 26 11:28 \"sub_07\"/\n",
      "drwxrwx--- 3 anwander users    9 Nov 26 11:28 \"sub_08\"/\n",
      "drwxrwx--- 3 anwander users    9 Nov 26 11:29 \"sub_09\"/\n",
      "drwxrwx--- 3 anwander users    9 Nov 26 11:29 \"sub_10\"/\n",
      "drwxrwx--- 3 anwander users    9 Nov 26 11:29 \"sub_11\"/\n",
      "drwxrwx--- 3 anwander users    9 Nov 26 11:30 \"sub_12\"/\n",
      "drwxrwx--- 3 anwander users    9 Nov 26 11:30 \"sub_13\"/\n",
      "drwxrwx--- 3 anwander users    9 Nov 26 11:30 \"sub_14\"/\n",
      "drwxrwx--- 3 anwander users    9 Nov 26 11:31 \"sub_15\"/\n",
      "drwxrwx--- 3 anwander users    9 Nov 26 11:31 \"sub_16\"/\n",
      "drwxrwx--- 3 anwander users    9 Nov 26 11:32 \"sub_17\"/\n",
      "drwxrwx--- 3 anwander users    9 Nov 26 11:32 \"sub_18\"/\n",
      "drwxrwx--- 3 anwander users    9 Nov 26 11:32 \"sub_19\"/\n",
      "drwxrwx--- 3 anwander users    9 Nov 26 11:33 \"sub_20\"/\n",
      "drwxrwx--- 3 anwander users    9 Nov 26 11:33 \"sub_21\"/\n",
      "drwxrwx--- 2 anwander users   54 Nov 26 11:37 \"slicesdir\"/\n",
      "drwxrwx--- 4 anwander users   16 Dec  9 16:48 \"sub_01\"/\n",
      "drwxrwx--- 4 anwander users   24 Dec  9 17:13 \"tmp\"/\n",
      "drwxrwx--- 3 paquette users    4 Dec 13 14:19 \"processing_tutorial\"/\n"
     ]
    },
    {
     "ename": "",
     "evalue": "1",
     "output_type": "error",
     "traceback": []
    }
   ],
   "source": [
    "ls -lhtr"
   ]
  },
  {
   "cell_type": "code",
   "execution_count": 91,
   "metadata": {},
   "outputs": [
    {
     "name": "stdout",
     "output_type": "stream",
     "text": [
      "# it the same!\n",
      "ls -l -t -r -h\n",
      "total 2.0G\n",
      "-rwxrwx--- 1 anwander users 2.1G Nov 26 10:32 \"DTI_analysis.rar\"*\n",
      "drwxrwx--- 3 anwander users    9 Nov 26 11:26 \"sub_02\"/\n",
      "drwxrwx--- 3 anwander users    9 Nov 26 11:27 \"sub_03\"/\n",
      "drwxrwx--- 3 anwander users    9 Nov 26 11:27 \"sub_04\"/\n",
      "drwxrwx--- 3 anwander users    9 Nov 26 11:27 \"sub_05\"/\n",
      "drwxrwx--- 3 anwander users    9 Nov 26 11:28 \"sub_06\"/\n",
      "drwxrwx--- 3 anwander users    9 Nov 26 11:28 \"sub_07\"/\n",
      "drwxrwx--- 3 anwander users    9 Nov 26 11:28 \"sub_08\"/\n",
      "drwxrwx--- 3 anwander users    9 Nov 26 11:29 \"sub_09\"/\n",
      "drwxrwx--- 3 anwander users    9 Nov 26 11:29 \"sub_10\"/\n",
      "drwxrwx--- 3 anwander users    9 Nov 26 11:29 \"sub_11\"/\n",
      "drwxrwx--- 3 anwander users    9 Nov 26 11:30 \"sub_12\"/\n",
      "drwxrwx--- 3 anwander users    9 Nov 26 11:30 \"sub_13\"/\n",
      "drwxrwx--- 3 anwander users    9 Nov 26 11:30 \"sub_14\"/\n",
      "drwxrwx--- 3 anwander users    9 Nov 26 11:31 \"sub_15\"/\n",
      "drwxrwx--- 3 anwander users    9 Nov 26 11:31 \"sub_16\"/\n",
      "drwxrwx--- 3 anwander users    9 Nov 26 11:32 \"sub_17\"/\n",
      "drwxrwx--- 3 anwander users    9 Nov 26 11:32 \"sub_18\"/\n",
      "drwxrwx--- 3 anwander users    9 Nov 26 11:32 \"sub_19\"/\n",
      "drwxrwx--- 3 anwander users    9 Nov 26 11:33 \"sub_20\"/\n",
      "drwxrwx--- 3 anwander users    9 Nov 26 11:33 \"sub_21\"/\n",
      "drwxrwx--- 2 anwander users   54 Nov 26 11:37 \"slicesdir\"/\n",
      "drwxrwx--- 4 anwander users   16 Dec  9 16:48 \"sub_01\"/\n",
      "drwxrwx--- 4 anwander users   24 Dec  9 17:13 \"tmp\"/\n",
      "drwxrwx--- 3 paquette users    4 Dec 13 14:19 \"processing_tutorial\"/\n"
     ]
    },
    {
     "ename": "",
     "evalue": "1",
     "output_type": "error",
     "traceback": []
    }
   ],
   "source": [
    "# it the same!\n",
    "ls -l -t -r -h"
   ]
  },
  {
   "cell_type": "markdown",
   "metadata": {},
   "source": [
    "cd  \n",
    "stands for \"change directory\", its allows you to move you location. You can specify a full path or you can specify a path relative to you current location."
   ]
  },
  {
   "cell_type": "code",
   "execution_count": 92,
   "metadata": {},
   "outputs": [
    {
     "name": "stdout",
     "output_type": "stream",
     "text": [
      "# cd with specific path\n",
      "cd /data/hu_paquette/Documents\n",
      "# we are now there\n",
      "pwd\n",
      "/data/hu_paquette/Documents\n"
     ]
    },
    {
     "ename": "",
     "evalue": "1",
     "output_type": "error",
     "traceback": []
    }
   ],
   "source": [
    "# cd with specific path\n",
    "cd /data/hu_paquette/Documents\n",
    "# we are now there\n",
    "pwd"
   ]
  },
  {
   "cell_type": "code",
   "execution_count": 93,
   "metadata": {},
   "outputs": [
    {
     "name": "stdout",
     "output_type": "stream",
     "text": [
      "# inspect what is there\n",
      "ls\n",
      "\"battocchio_miccai_graph.pdf\"*\t\t     \"MATLAB\"/\n",
      "\"courses\"/\t\t\t\t     \"receipt_don_scc.pdf\"*\n",
      "\"data_timestamps.txt\"*\t\t\t     \"test_rotated_bvec.txt\"*\n",
      "\"diffusion_parameter_exvivo_citations.txt\"*  \"waveform\"/\n",
      "\"hippocampus_exvivo_temperatue_paper.png\"*\n"
     ]
    },
    {
     "ename": "",
     "evalue": "1",
     "output_type": "error",
     "traceback": []
    }
   ],
   "source": [
    "# inspect what is there\n",
    "ls"
   ]
  },
  {
   "cell_type": "code",
   "execution_count": 94,
   "metadata": {},
   "outputs": [
    {
     "name": "stdout",
     "output_type": "stream",
     "text": [
      "# move with cd using relative path\n",
      "cd courses\n",
      "pwd\n",
      "/data/hu_paquette/Documents/courses\n"
     ]
    },
    {
     "ename": "",
     "evalue": "1",
     "output_type": "error",
     "traceback": []
    }
   ],
   "source": [
    "# move with cd using relative path\n",
    "cd courses\n",
    "pwd"
   ]
  },
  {
   "cell_type": "markdown",
   "metadata": {},
   "source": [
    "mv  \n",
    "Stands for \"move\", we use it to move files \"mv /old/path /new/path\". Like always the paths can be full paths or paths relative to the current location.  \n",
    "This also how you rename files in bash, you \"move\" them to the same location but wth a different name.  \n",
    "If you leave the path black after a \"/\", the file will keep its original name when it move to that folder.  \n",
    "You can also write \"./\" to refer to the current folder for example \"mv /path/to/file.txt ./\" will move that file to the current folder with the name file.txt"
   ]
  },
  {
   "cell_type": "code",
   "execution_count": 95,
   "metadata": {},
   "outputs": [
    {
     "name": "stdout",
     "output_type": "stream",
     "text": [
      "ls\n",
      "\"audio_python_illinois\"/\t       \"edx_ph525.1x\"/\n",
      "\"dataanalysisforthelifesciences.pdf\"*  \"Short-refcard.pdf\"*\n",
      "#\n",
      "# we'll move back forth that pdf file \n",
      "mv Short-refcard.pdf /data/hu_paquette/Documents/\n",
      "#\n",
      "# we see that the file is gone\n",
      "ls\n",
      "\"audio_python_illinois\"/\t       \"edx_ph525.1x\"/\n",
      "\"dataanalysisforthelifesciences.pdf\"*\n",
      "#\n",
      "# because it is here now\n",
      "ls /data/hu_paquette/Documents/\n",
      "\"battocchio_miccai_graph.pdf\"*\t\t     \"MATLAB\"/\n",
      "\"courses\"/\t\t\t\t     \"receipt_don_scc.pdf\"*\n",
      "\"data_timestamps.txt\"*\t\t\t     \"Short-refcard.pdf\"*\n",
      "\"diffusion_parameter_exvivo_citations.txt\"*  \"test_rotated_bvec.txt\"*\n",
      "\"hippocampus_exvivo_temperatue_paper.png\"*   \"waveform\"/\n",
      "# \n",
      "# and we move it back\n",
      "mv /data/hu_paquette/Documents/Short-refcard.pdf ./\n"
     ]
    },
    {
     "ename": "",
     "evalue": "1",
     "output_type": "error",
     "traceback": []
    }
   ],
   "source": [
    "ls\n",
    "#\n",
    "# we'll move back forth that pdf file \n",
    "mv Short-refcard.pdf /data/hu_paquette/Documents/\n",
    "#\n",
    "# we see that the file is gone\n",
    "ls\n",
    "#\n",
    "# because it is here now\n",
    "ls /data/hu_paquette/Documents/\n",
    "# \n",
    "# and we move it back\n",
    "mv /data/hu_paquette/Documents/Short-refcard.pdf ./"
   ]
  },
  {
   "cell_type": "markdown",
   "metadata": {},
   "source": [
    "cp  \n",
    "stands for \"copy\", works the same has mv but makes a copy at the new location without removing it from the original location."
   ]
  },
  {
   "cell_type": "markdown",
   "metadata": {},
   "source": [
    "cat  \n",
    "Stands for \"concatenate\", its a usefull simple command for print textfiles. If you list multiple textfiles after the \"cat\" they all get printed one after the other (therefore the name concatenate)."
   ]
  },
  {
   "cell_type": "code",
   "execution_count": 96,
   "metadata": {},
   "outputs": [
    {
     "name": "stdout",
     "output_type": "stream",
     "text": [
      "# first we move back here\n",
      "cd /data/pt_02586/sub_01/\n",
      "ls\n",
      "\"bvals.txt\"*\n",
      "\"bvecs.txt\"*\n",
      "\"DICOM\"/\n",
      "\"DTI_MP_64_2x2x2_s2_p2_6-8_20210910130531_9.bval\"*\n",
      "\"DTI_MP_64_2x2x2_s2_p2_6-8_20210910130531_9.bvec\"*\n",
      "\"DTI_MP_64_2x2x2_s2_p2_6-8_20210910130531_9.json\"*\n",
      "\"DTI_MP_64_2x2x2_s2_p2_6-8_20210910130531_9.nii.gz\"*\n",
      "\"eddy_config.txt\"*\n",
      "\"eddy_ind.txt\"*\n",
      "\"pe_table.txt\"*\n",
      "\"preprocessing\"/\n",
      "\"t1_mprage_sag_1x1x1_p2_64ch_20210910130531_3.json\"*\n",
      "\"t1_mprage_sag_1x1x1_p2_64ch_20210910130531_3.nii.gz\"*\n",
      "\"tmp.nii\"*\n"
     ]
    },
    {
     "ename": "",
     "evalue": "1",
     "output_type": "error",
     "traceback": []
    }
   ],
   "source": [
    "# first we move back here\n",
    "cd /data/pt_02586/sub_01/\n",
    "ls"
   ]
  },
  {
   "cell_type": "code",
   "execution_count": 97,
   "metadata": {},
   "outputs": [
    {
     "name": "stdout",
     "output_type": "stream",
     "text": [
      "cat bvals.txt\n",
      "0 1000 1000 1000 1000 1000 1000 1000 1000 1000 1000 1000 1000 1000 1000 1000 1000 1000 1000 1000 1000 1000 1000 1000 1000 1000 1000 1000 1000 1000 1000 1000 1000 1000 1000 1000 1000 1000 1000 1000 1000 1000 1000 1000 1000 1000 1000 1000 1000 1000 1000 1000 1000 1000 1000 1000 1000 1000 1000 1000 1000 1000 1000 1000 1000 0 0 0 0 0 0\n"
     ]
    },
    {
     "ename": "",
     "evalue": "1",
     "output_type": "error",
     "traceback": []
    }
   ],
   "source": [
    "cat bvals.txt"
   ]
  },
  {
   "cell_type": "markdown",
   "metadata": {},
   "source": [
    "mkdir  \n",
    "stands for \"make directory\", creates a new directory at the path specified, can be a full path or a relative one to you location."
   ]
  },
  {
   "cell_type": "markdown",
   "metadata": {},
   "source": [
    "rm  \n",
    "stands for \"remove\", it deletes files.  \n",
    "#### rm is permanent and irreversible, there is no way to recover the files, so if deleting multiple files at once, its good pratice to \"ls\" the files you want to delete before to double check that they are the right files"
   ]
  },
  {
   "cell_type": "markdown",
   "metadata": {},
   "source": [
    "Variables in bash  \n",
    "variable in bash are very usefull for data preprocessing.  \n",
    "We can store important paths like the location of the data or the folder we are doing the processing for a specific subject.  "
   ]
  },
  {
   "cell_type": "code",
   "execution_count": 98,
   "metadata": {},
   "outputs": [
    {
     "name": "stdout",
     "output_type": "stream",
     "text": [
      "# save the root data directory in a variable\n",
      "ROOTDIR='/data/pt_02586/'\n"
     ]
    },
    {
     "ename": "",
     "evalue": "1",
     "output_type": "error",
     "traceback": []
    }
   ],
   "source": [
    "# save the root data directory in a variable\n",
    "ROOTDIR='/data/pt_02586/'"
   ]
  },
  {
   "cell_type": "code",
   "execution_count": 99,
   "metadata": {
    "scrolled": true
   },
   "outputs": [
    {
     "name": "stdout",
     "output_type": "stream",
     "text": [
      "# The variable can be used by using a $ sign \n",
      "# in front of the name\n",
      "# echo is a command to print text\n",
      "echo $ROOTDIR\n",
      "/data/pt_02586/\n"
     ]
    },
    {
     "ename": "",
     "evalue": "1",
     "output_type": "error",
     "traceback": []
    }
   ],
   "source": [
    "# The variable can be used by using a $ sign \n",
    "# in front of the name\n",
    "# echo is a command to print text\n",
    "echo $ROOTDIR"
   ]
  },
  {
   "cell_type": "markdown",
   "metadata": {},
   "source": [
    "Now I can build new variables by concatenating upon ROOTDIR  \n",
    "I will create a SUBJECTDIR and write every future command with respect to subject directory, therefore simply changing SUBJECTDIR to another subject and re-running the same command without modification would process a new subject."
   ]
  },
  {
   "cell_type": "code",
   "execution_count": 100,
   "metadata": {},
   "outputs": [
    {
     "name": "stdout",
     "output_type": "stream",
     "text": [
      "SUBJECTDIR=$ROOTDIR'sub_01/'\n",
      "echo $SUBJECTDIR\n",
      "/data/pt_02586/sub_01/\n"
     ]
    },
    {
     "ename": "",
     "evalue": "1",
     "output_type": "error",
     "traceback": []
    }
   ],
   "source": [
    "SUBJECTDIR=$ROOTDIR'sub_01/'\n",
    "echo $SUBJECTDIR"
   ]
  },
  {
   "cell_type": "markdown",
   "metadata": {},
   "source": [
    "A few last tricks:  \n",
    "- Pressing the up and down arrow in a terminal cycles through the previously called command, no need to always re-type it.  \n",
    "- pressing \"tab\" attempts to autocomplete file name, if there are more than one possibility, it will show you the subset of files and directories that fit.  \n",
    "- you can always use \"~\" as a path pointing to your home directory (\"cd ~\") \n",
    "- you can use \"..\" to refer to the parent directory you are into. This is mainly used only to do \"cd ..\" to go \"up\" by one folder, but can be mixed in the middle of a full path if needed.  \n",
    "- if you just changed directory somewhere with \"cd\" you can do \"cd -\" to go back to where you were.  "
   ]
  },
  {
   "cell_type": "markdown",
   "metadata": {},
   "source": [
    "### We can now explore a bit the environement and the data"
   ]
  },
  {
   "cell_type": "code",
   "execution_count": 101,
   "metadata": {},
   "outputs": [
    {
     "name": "stdout",
     "output_type": "stream",
     "text": [
      "# This command is specific to the environement at MPI CBS\n",
      "# but its shows the software version I am using\n",
      "# (what we are doing should work on more recent version too)\n",
      "envlist\n",
      "mrtrix 3.0.0\n",
      "fsl 5.0.11\n",
      "ants 2.3.1\n"
     ]
    },
    {
     "ename": "",
     "evalue": "1",
     "output_type": "error",
     "traceback": []
    }
   ],
   "source": [
    "# This command is specific to the environement at MPI CBS\n",
    "# but its shows the software version I am using\n",
    "# (what we are doing should work on more recent version too)\n",
    "envlist"
   ]
  },
  {
   "cell_type": "code",
   "execution_count": 107,
   "metadata": {},
   "outputs": [
    {
     "name": "stdout",
     "output_type": "stream",
     "text": [
      "# /data/pt_02586 is our project storage at MPI CBS\n",
      "cd /data/pt_02586\n"
     ]
    },
    {
     "ename": "",
     "evalue": "1",
     "output_type": "error",
     "traceback": []
    }
   ],
   "source": [
    "# /data/pt_02586 is our project storage at MPI CBS\n",
    "cd /data/pt_02586"
   ]
  },
  {
   "cell_type": "code",
   "execution_count": 108,
   "metadata": {},
   "outputs": [
    {
     "name": "stdout",
     "output_type": "stream",
     "text": [
      "# \"ll\" is a shortcut for \"ls -l\"\n",
      "# The subject are separated into folders\n",
      "# The numbering is based on subject name alphabetical order\n",
      "ll -thr\n",
      "total 2.0G\n",
      "-rwxrwx--- 1 anwander users 2.1G Nov 26 10:32 \"DTI_analysis.rar\"*\n",
      "drwxrwx--- 3 anwander users    9 Nov 26 11:26 \"sub_02\"/\n",
      "drwxrwx--- 3 anwander users    9 Nov 26 11:27 \"sub_03\"/\n",
      "drwxrwx--- 3 anwander users    9 Nov 26 11:27 \"sub_04\"/\n",
      "drwxrwx--- 3 anwander users    9 Nov 26 11:27 \"sub_05\"/\n",
      "drwxrwx--- 3 anwander users    9 Nov 26 11:28 \"sub_06\"/\n",
      "drwxrwx--- 3 anwander users    9 Nov 26 11:28 \"sub_07\"/\n",
      "drwxrwx--- 3 anwander users    9 Nov 26 11:28 \"sub_08\"/\n",
      "drwxrwx--- 3 anwander users    9 Nov 26 11:29 \"sub_09\"/\n",
      "drwxrwx--- 3 anwander users    9 Nov 26 11:29 \"sub_10\"/\n",
      "drwxrwx--- 3 anwander users    9 Nov 26 11:29 \"sub_11\"/\n",
      "drwxrwx--- 3 anwander users    9 Nov 26 11:30 \"sub_12\"/\n",
      "drwxrwx--- 3 anwander users    9 Nov 26 11:30 \"sub_13\"/\n",
      "drwxrwx--- 3 anwander users    9 Nov 26 11:30 \"sub_14\"/\n",
      "drwxrwx--- 3 anwander users    9 Nov 26 11:31 \"sub_15\"/\n",
      "drwxrwx--- 3 anwander users    9 Nov 26 11:31 \"sub_16\"/\n",
      "drwxrwx--- 3 anwander users    9 Nov 26 11:32 \"sub_17\"/\n",
      "drwxrwx--- 3 anwander users    9 Nov 26 11:32 \"sub_18\"/\n",
      "drwxrwx--- 3 anwander users    9 Nov 26 11:32 \"sub_19\"/\n",
      "drwxrwx--- 3 anwander users    9 Nov 26 11:33 \"sub_20\"/\n",
      "drwxrwx--- 3 anwander users    9 Nov 26 11:33 \"sub_21\"/\n",
      "drwxrwx--- 2 anwander users   54 Nov 26 11:37 \"slicesdir\"/\n",
      "drwxrwx--- 4 anwander users   16 Dec  9 16:48 \"sub_01\"/\n",
      "drwxrwx--- 4 anwander users   24 Dec  9 17:13 \"tmp\"/\n",
      "drwxrwx--- 3 paquette users    4 Dec 13 14:19 \"processing_tutorial\"/\n"
     ]
    },
    {
     "ename": "",
     "evalue": "1",
     "output_type": "error",
     "traceback": []
    }
   ],
   "source": [
    "# \"ll\" is a shortcut for \"ls -l\"\n",
    "# The subject are separated into folders\n",
    "# The numbering is based on subject name alphabetical order\n",
    "ll -thr"
   ]
  },
  {
   "cell_type": "code",
   "execution_count": 109,
   "metadata": {},
   "outputs": [
    {
     "name": "stdout",
     "output_type": "stream",
     "text": [
      "# we can check subject one\n",
      "# There are a few key files:\n",
      "# - a DICOM folder\n",
      "# - a converted nifti image (nii.gz) for the T1 and for the DWI\n",
      "# - json file for the scanning parameters of T1 and DWI\n",
      "# - text file for the bvecs and the bvals\n",
      "# - text file for the topup parameter (pe_table)\n",
      "# - text file for the eddy files (config and ind)\n",
      "ls sub_01/\n",
      "\"bvals.txt\"*\n",
      "\"bvecs.txt\"*\n",
      "\"DICOM\"/\n",
      "\"DTI_MP_64_2x2x2_s2_p2_6-8_20210910130531_9.bval\"*\n",
      "\"DTI_MP_64_2x2x2_s2_p2_6-8_20210910130531_9.bvec\"*\n",
      "\"DTI_MP_64_2x2x2_s2_p2_6-8_20210910130531_9.json\"*\n",
      "\"DTI_MP_64_2x2x2_s2_p2_6-8_20210910130531_9.nii.gz\"*\n",
      "\"eddy_config.txt\"*\n",
      "\"eddy_ind.txt\"*\n",
      "\"pe_table.txt\"*\n",
      "\"preprocessing\"/\n",
      "\"t1_mprage_sag_1x1x1_p2_64ch_20210910130531_3.json\"*\n",
      "\"t1_mprage_sag_1x1x1_p2_64ch_20210910130531_3.nii.gz\"*\n",
      "\"tmp.nii\"*\n"
     ]
    },
    {
     "ename": "",
     "evalue": "1",
     "output_type": "error",
     "traceback": []
    }
   ],
   "source": [
    "# we can check subject one\n",
    "# There are a few key files:\n",
    "# - a DICOM folder\n",
    "# - a converted nifti image (nii.gz) for the T1 and for the DWI\n",
    "# - json file for the scanning parameters of T1 and DWI\n",
    "# - text file for the bvecs and the bvals\n",
    "# - text file for the topup parameter (pe_table)\n",
    "# - text file for the eddy files (config and ind)\n",
    "ls sub_01/"
   ]
  },
  {
   "cell_type": "code",
   "execution_count": 110,
   "metadata": {},
   "outputs": [
    {
     "name": "stdout",
     "output_type": "stream",
     "text": [
      "# for each subject we mkdir a preprocessing folder\n",
      "# to hold the large amount of intermediary data\n",
      "cd sub_01/preprocessing\n"
     ]
    },
    {
     "ename": "",
     "evalue": "1",
     "output_type": "error",
     "traceback": []
    }
   ],
   "source": [
    "# for each subject we mkdir a preprocessing folder\n",
    "# to hold the large amount of intermediary data\n",
    "cd sub_01/preprocessing"
   ]
  },
  {
   "cell_type": "code",
   "execution_count": 111,
   "metadata": {},
   "outputs": [
    {
     "name": "stdout",
     "output_type": "stream",
     "text": [
      "# we can setup variable for important paths\n",
      "ROOTDIR='/data/pt_02586/'\n",
      "SUBJECTDIR=$ROOTDIR'sub_01/'\n"
     ]
    },
    {
     "ename": "",
     "evalue": "1",
     "output_type": "error",
     "traceback": []
    }
   ],
   "source": [
    "# we can setup variable for important paths\n",
    "ROOTDIR='/data/pt_02586/'\n",
    "SUBJECTDIR=$ROOTDIR'sub_01/'"
   ]
  },
  {
   "cell_type": "markdown",
   "metadata": {},
   "source": [
    "### DICOM to NifTi conversion"
   ]
  },
  {
   "cell_type": "markdown",
   "metadata": {},
   "source": [
    "In the begining, all we have is a DICOM folder, so we will go inspect what kind of data it contains."
   ]
  },
  {
   "cell_type": "markdown",
   "metadata": {},
   "source": [
    "#### mrinfo  \n",
    "mrinfo is the \"mri information\" command from Mrtrix.  \n",
    "It can be used on individual images or on entire DICOM directory.  \n",
    "When using it on a directory, it will show us a menu to select which image from the directory we want the info."
   ]
  },
  {
   "cell_type": "markdown",
   "metadata": {},
   "source": [
    "There is a limitation in the bash notebook that I am using where I cannot run code that expect a user input (it will hang forever). Therefore I will copy paste the output of mrinfo to demonstrate instead"
   ]
  },
  {
   "cell_type": "code",
   "execution_count": 113,
   "metadata": {
    "scrolled": false
   },
   "outputs": [
    {
     "name": "stdout",
     "output_type": "stream",
     "text": [
      "# This would be the command without the #\n",
      "# mrinfo $SUBJECTDIR'DICOM'\n"
     ]
    },
    {
     "ename": "",
     "evalue": "1",
     "output_type": "error",
     "traceback": []
    }
   ],
   "source": [
    "# This would be the command without the #\n",
    "# mrinfo $SUBJECTDIR'DICOM'"
   ]
  },
  {
   "cell_type": "markdown",
   "metadata": {},
   "source": [
    "mrinfo: [done] scanning DICOM folder \"/data/pt_02586/sub_01/DICOM\"  \n",
    "Select series ('q' to abort):  \n",
    "   0 -  208 MR images 13:13:36 t1_mprage_sag_1x1x1_p2_64ch (*tfl3d1_16ns) [3] ORIGINAL PRIMARY M ND NORM  \n",
    "   1 -   71 MR images 13:55:50 DTI_MP_64_2x2x2_s2_p2_6-8 (*ep_b1000#47) [9] ORIGINAL PRIMARY DIFFUSION NONE ND MOSAIC  "
   ]
  },
  {
   "cell_type": "markdown",
   "metadata": {},
   "source": [
    "We see that we have 2 image series in the DICOM folder, number 0 is a T1 and number 1 is a DWI.  \n",
    "Normally, you would press 0 or 1 in the terminal and get the info for the specific serie, here instead I will weird trick to emulate that (using echo with the series numbers 0 and 1 into the mrinfo command)."
   ]
  },
  {
   "cell_type": "markdown",
   "metadata": {},
   "source": [
    "The command shows the data dimension in voxels, the voxel size in mm, the \"relative data strides\" (more later), the data type (more later) and the affine matrix (under transform). The rest is collection of mr parameters and notes."
   ]
  },
  {
   "cell_type": "code",
   "execution_count": 114,
   "metadata": {},
   "outputs": [
    {
     "name": "stdout",
     "output_type": "stream",
     "text": [
      "# mrinfo for serie 0, the T1\n",
      "echo 0 | mrinfo $SUBJECTDIR'DICOM'\n",
      "mrinfo: [done] scanning DICOM folder \"/data/pt_02586/sub_01/DICOM\"\u001b[0K\u001b[0K\u001b[?7h\u001b[?7l\n",
      "Select series ('q' to abort):\n",
      "   0 -  208 MR images 13:13:36 t1_mprage_sag_1x1x1_p2_64ch (*tfl3d1_16ns) [3] ORIGINAL PRIMARY M ND NORM\n",
      "   1 -   71 MR images 13:55:50 DTI_MP_64_2x2x2_s2_p2_6-8 (*ep_b1000#47) [9] ORIGINAL PRIMARY DIFFUSION NONE ND MOSAIC\n",
      "mrinfo: [100%] reading DICOM series \"t1_mprage_sag_1x1x1_p2_64ch\"\u001b[0K\u001b[0K\u001b[?7h\u001b[?7l\n",
      "************************************************\n",
      "Image name:          \"20210910_P02_FengLP_GCY_JiangChaoYong (20210910_P02_FengLP_GCY_JiangChaoYong) [MR] t1_mprage_sag_1x1x1_p2_64ch\"\n",
      "************************************************\n",
      "  Dimensions:        208 x 256 x 256\n",
      "  Voxel size:        1 x 1 x 1\n",
      "  Data strides:      [ 3 -1 -2 ]\n",
      "  Format:            DICOM\n",
      "  Data type:         unsigned 16 bit integer (little endian)\n",
      "  Intensity scaling: offset = 0, multiplier = 1\n",
      "  Transform:               0.9997           0    -0.02443      -98.33\n",
      "                               -0           1           0      -113.1\n",
      "                          0.02443          -0      0.9997      -121.2\n",
      "  EchoTime:          0.00227\n",
      "  FlipAngle:         7,8\n",
      "  InversionTime:     1.1\n",
      "  PhaseEncodingDirection: j-\n",
      "  PixelBandwidth:    190\n",
      "  RepetitionTime:    2.53\n",
      "  comments:          20210910_P02_FengLP_GCY_JiangChaoYong (20210910_P02_FengLP_GCY_JiangChaoYong) [MR] t1_mprage_sag_1x1x1_p2_64ch\n",
      "                     study: BNU_P2018_64CH^Feng.LiPing_CCLC [ ORIGINAL PRIMARY M ND NORM ]\n",
      "                     DOB: 07/05/2002\n",
      "                     DOS: 10/09/2021 13:13:36\n"
     ]
    },
    {
     "ename": "",
     "evalue": "1",
     "output_type": "error",
     "traceback": []
    }
   ],
   "source": [
    "# mrinfo for serie 0, the T1\n",
    "echo 0 | mrinfo $SUBJECTDIR'DICOM'"
   ]
  },
  {
   "cell_type": "code",
   "execution_count": 115,
   "metadata": {},
   "outputs": [
    {
     "name": "stdout",
     "output_type": "stream",
     "text": [
      "# mrinfo for serie 1, the DWI\n",
      "echo 1 | mrinfo $SUBJECTDIR'DICOM'\n",
      "mrinfo: [done] scanning DICOM folder \"/data/pt_02586/sub_01/DICOM\"\u001b[0K\n",
      "Select series ('q' to abort):\n",
      "   0 -  208 MR images 13:13:36 t1_mprage_sag_1x1x1_p2_64ch (*tfl3d1_16ns) [3] ORIGINAL PRIMARY M ND NORM\n",
      "   1 -   71 MR images 13:55:50 DTI_MP_64_2x2x2_s2_p2_6-8 (*ep_b1000#47) [9] ORIGINAL PRIMARY DIFFUSION NONE ND MOSAIC\n",
      "mrinfo: [100%] reading DICOM series \"DTI_MP_64_2x2x2_s2_p2_6-8\"\u001b[0K\u001b[0K\u001b[?7h\u001b[?7l\n",
      "************************************************\n",
      "Image name:          \"20210910_P02_FengLP_GCY_JiangChaoYong (20210910_P02_FengLP_GCY_JiangChaoYong) [MR] DTI_MP_64_2x2x2_s2_p2_6-8\"\n",
      "************************************************\n",
      "  Dimensions:        128 x 128 x 88 x 71\n",
      "  Voxel size:        1.71875 x 1.71875 x 1.7 x ?\n",
      "  Data strides:      [ -1 -2 3 4 ]\n",
      "  Format:            DICOM\n",
      "  Data type:         unsigned 16 bit integer (little endian)\n",
      "  Intensity scaling: offset = 0, multiplier = 1\n",
      "  Transform:                    1           0          -0      -107.6\n",
      "                                0           1          -0        -103\n",
      "                               -0          -0           1      -50.63\n",
      "  DiffusionScheme:   Monopolar\n",
      "  EchoTime:          0.06\n",
      "  FlipAngle:         90\n",
      "  MultibandAccelerationFactor: 2\n",
      "  PartialFourier:    0.75\n",
      "  PhaseEncodingDirection: j-\n",
      "  PixelBandwidth:    1860\n",
      "  RepetitionTime:    4.5\n",
      "  SliceEncodingDirection: k\n",
      "  SliceTiming:       3.3600,0.0000,2.2400,0.1025,2.3425,0.2025,2.4425,0.3050,2.5450,0.4075,2.6475,0.5100,2.7500,0.6100,2.8500,0.7125,2.9525,0.8150,3.0550,0.9175,3.1550,1.0175,3.2575,1.2225,3.4625,1.3225,3.5625,1.4250,3.6650,1.5275,3.7675,1.6300,3.8700,1.7300,3.9700,1.8325,4.0725,1.9350,4.1750,2.0375,4.2750,2.1375,4.3775,1.1200,3.3600,0.0000,2.2400,0.1025,2.3425,0.2025,2.4425,0.3050,2.5450,0.4075,2.6475,0.5100,2.7500,0.6100,2.8500,0.7125,2.9525,0.8150,3.0550,0.9175,3.1550,1.0175,3.2575,1.2225,3.4625,1.3225,3.5625,1.4250,3.6650,1.5275,3.7675,1.6300,3.8700,1.7300,3.9700,1.8325,4.0725,1.9350,4.1750,2.0375,4.2750,2.1375,4.3775,1.1200\n",
      "  TotalReadoutTime:  0.0457\n",
      "  comments:          20210910_P02_FengLP_GCY_JiangChaoYong (20210910_P02_FengLP_GCY_JiangChaoYong) [MR] DTI_MP_64_2x2x2_s2_p2_6-8\n",
      "                     study: BNU_P2018_64CH^Feng.LiPing_CCLC [ ORIGINAL PRIMARY DIFFUSION NONE ND MOSAIC ]\n",
      "                     DOB: 07/05/2002\n",
      "                     DOS: 10/09/2021 13:55:50\n",
      "  dw_scheme:         0,0,0,0\n",
      "  [71 entries]       -0.99998200000000004,-0,-0.0059996800000000003,1000\n",
      "                     ...\n",
      "                     0,0,0,0\n",
      "                     0,0,0,0\n"
     ]
    },
    {
     "ename": "",
     "evalue": "1",
     "output_type": "error",
     "traceback": []
    }
   ],
   "source": [
    "# mrinfo for serie 1, the DWI\n",
    "echo 1 | mrinfo $SUBJECTDIR'DICOM'"
   ]
  },
  {
   "cell_type": "markdown",
   "metadata": {},
   "source": [
    "Has expected, we see that the T1 has 3 dimensions and 1mm isotropic voxels while the DWI has 4 dimensions and 1.7 isotropic voxels."
   ]
  },
  {
   "cell_type": "markdown",
   "metadata": {},
   "source": [
    "#### strides\n",
    "Strides are related to the way the multi-dimensional is \"unwraped\" into a long 1D sequence of data to be stored on memory.  \n",
    "\n",
    "For instance, if you have a 2D table of numbers that needed to be \"flattened\" into 1D, you could stack end-to-end the rows of the table. Similarly, you could stack end-to-end the columns instead.  \n",
    "Both of these approach are completely reasonable and ideologically equivalent, however they obviously result in a different arrangement of the numbers to be stored in memory.  \n",
    "\n",
    "The strides are essentially what \"encodes\" the information on how to unravel (to be exact, the strides in mrinfo are relative and normalized strides, but thats not important here).  \n",
    "\n",
    "My personal opinion is that it is good practice to always convert your data to strides (1,2,3,4), this way, if any software in your pipeline happens to ignore stride information (it exist), you data is already in the natural ordering and this won't be an issue."
   ]
  },
  {
   "cell_type": "markdown",
   "metadata": {},
   "source": [
    "#### data type\n",
    "The numbers values saved by an MRI scanner in the images don't have an absolute meaning.  \n",
    "The scanner measures essentially electrical voltages and discretize them into a fixed number of bins.  \n",
    "It is therefore really common for mri to save data with a data type of some sort of integers.  \n",
    "In practice, it is convinient to quickly convert those to float when we start doing manipulation, normalization, etc"
   ]
  },
  {
   "cell_type": "markdown",
   "metadata": {},
   "source": [
    "#### mrconvert\n",
    "mrconvert is the \"mri conversion\" command of mrtrix. It can convert DICOM to nifti. To do so, it uses the same interface as mrinfo, where it shows you all the images in the DICOM and you have to chose.  \n",
    "It can also be used to change the strides, change the data type and extract various useful textfiles of relevant parameters from the DICOM."
   ]
  },
  {
   "cell_type": "markdown",
   "metadata": {},
   "source": [
    "For instance, if we use the following command and select the dwi data seris, we will extract the image to a file called dwi.nii.gz, with proper strides and data type.  \n",
    "We will also extract the diffusion b-vectors and b-values.  \n",
    "We also extract the \"phase encoding\" information (pe_table) which is required for the fsl-TOPUP preprocessing step.  \n",
    "We also extract a slightly different formationg of the phase encoding (eddy config and indices) which is require for the fsl-EDDY preprocessing step."
   ]
  },
  {
   "cell_type": "code",
   "execution_count": 117,
   "metadata": {},
   "outputs": [
    {
     "name": "stdout",
     "output_type": "stream",
     "text": [
      "# mrconvert DICOM/ \\\n",
      "#           dwi.nii.gz \\\n",
      "#           -strides 1,2,3,4 \\\n",
      "#           -datatype float32 \\\n",
      "#           -export_grad_fsl bvecs.txt bvals.txt \\\n",
      "#           -export_pe_table pe_table.txt \\\n",
      "#           -export_pe_eddy eddy_config.txt eddy_ind.txt\n"
     ]
    },
    {
     "ename": "",
     "evalue": "1",
     "output_type": "error",
     "traceback": []
    }
   ],
   "source": [
    "# mrconvert DICOM/ \\\n",
    "#           dwi.nii.gz \\\n",
    "#           -strides 1,2,3,4 \\\n",
    "#           -datatype float32 \\\n",
    "#           -export_grad_fsl bvecs.txt bvals.txt \\\n",
    "#           -export_pe_table pe_table.txt \\\n",
    "#           -export_pe_eddy eddy_config.txt eddy_ind.txt"
   ]
  },
  {
   "cell_type": "code",
   "execution_count": null,
   "metadata": {},
   "outputs": [],
   "source": []
  },
  {
   "cell_type": "code",
   "execution_count": null,
   "metadata": {},
   "outputs": [],
   "source": []
  },
  {
   "cell_type": "code",
   "execution_count": null,
   "metadata": {},
   "outputs": [],
   "source": []
  },
  {
   "cell_type": "code",
   "execution_count": null,
   "metadata": {},
   "outputs": [],
   "source": []
  }
 ],
 "metadata": {
  "kernelspec": {
   "display_name": "Bash",
   "language": "bash",
   "name": "bash"
  },
  "language_info": {
   "codemirror_mode": "shell",
   "file_extension": ".sh",
   "mimetype": "text/x-sh",
   "name": "bash"
  }
 },
 "nbformat": 4,
 "nbformat_minor": 4
}
