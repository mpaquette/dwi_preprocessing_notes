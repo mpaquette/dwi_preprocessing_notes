{
 "cells": [
  {
   "cell_type": "markdown",
   "metadata": {},
   "source": [
    "# DWI preprocessing\n",
    "## using MRTRIX, FSL and ANTS\n",
    "### by Michael Paquette\n",
    "#### Notes from Jan 27th"
   ]
  },
  {
   "cell_type": "markdown",
   "metadata": {},
   "source": [
    "In this serie of bash notebook, I will be describing a basic DWI data preprocessing pipeline."
   ]
  },
  {
   "cell_type": "markdown",
   "metadata": {},
   "source": [
    "I will try to stick to this (loose) general format to describe each step:  \n",
    "\n",
    "- What is the artefact we are trying to correct or the transformation we are trying to achieve  \n",
    "- Why does this happen  \n",
    "- What would happen if we didnt correct/modify \n",
    "- Why is this step here (somewhat arbitrary or specific ordering)  \n",
    "- Important parameters of the tool (and which one are likely to need finetuning)  \n",
    "- What to look for when doing QC (quality control)"
   ]
  },
  {
   "cell_type": "code",
   "execution_count": null,
   "metadata": {},
   "outputs": [],
   "source": []
  },
  {
   "cell_type": "code",
   "execution_count": 1,
   "metadata": {},
   "outputs": [
    {
     "name": "stdout",
     "output_type": "stream",
     "text": [
      "# Like last time, we setup the basic variable with the folders\n",
      "ROOTDIR='/data/pt_02586/'\n",
      "SUBJECTDIR=$ROOTDIR'sub_01/'\n",
      "# and we move to the preprocessing folder\n",
      "cd $SUBJECTDIR'preprocessing'\n",
      "pwd\n",
      "/data/pt_02586/sub_01/preprocessing\n"
     ]
    },
    {
     "ename": "",
     "evalue": "1",
     "output_type": "error",
     "traceback": []
    }
   ],
   "source": [
    "# Like last time, we setup the basic variable with the folders\n",
    "ROOTDIR='/data/pt_02586/'\n",
    "SUBJECTDIR=$ROOTDIR'sub_01/'\n",
    "# and we move to the preprocessing folder\n",
    "cd $SUBJECTDIR'preprocessing'\n",
    "pwd"
   ]
  },
  {
   "cell_type": "code",
   "execution_count": 2,
   "metadata": {},
   "outputs": [
    {
     "name": "stdout",
     "output_type": "stream",
     "text": [
      "# We use from now on and forever the NEW bvec\n",
      "# that were created by the EDDY command\n",
      "# because they contain the small rotation\n",
      "# that were introduced by motion correction\n",
      "BVEC=$SUBJECTDIR'preprocessing/dwi_eddy.eddy_rotated_bvecs';\n",
      "BVAL=$SUBJECTDIR'preprocessing/bvals.txt';\n"
     ]
    },
    {
     "ename": "",
     "evalue": "1",
     "output_type": "error",
     "traceback": []
    }
   ],
   "source": [
    "# We use from now on and forever the NEW bvec\n",
    "# that were created by the EDDY command\n",
    "# because they contain the small rotation\n",
    "# that were introduced by motion correction\n",
    "BVEC=$SUBJECTDIR'preprocessing/dwi_eddy.eddy_rotated_bvecs';\n",
    "BVAL=$SUBJECTDIR'preprocessing/bvals.txt';"
   ]
  },
  {
   "cell_type": "code",
   "execution_count": null,
   "metadata": {},
   "outputs": [],
   "source": []
  },
  {
   "cell_type": "markdown",
   "metadata": {},
   "source": [
    "### QC of eddy"
   ]
  },
  {
   "cell_type": "markdown",
   "metadata": {},
   "source": [
    "#### option 1: FSL eddyqc tool"
   ]
  },
  {
   "cell_type": "markdown",
   "metadata": {},
   "source": [
    "The tool eddy_quad from FSL produce a pdf report from a single subject.  \n",
    "https://fsl.fmrib.ox.ac.uk/fsl/fslwiki/eddyqc/UsersGuide\n",
    "\n",
    "It is only available from FSL 6.0 and onward (for instance at the MPI, I have to use this environement \"FSL --version 6.0.1\")\n",
    "\n",
    "\n",
    "eddy_quad <eddyBase> -idx <eddyIndex> -par <eddyParams> -m <mask> -b <bvals>  \n",
    "It takes as input the '--out' param from the eddy command (eddyBase).  \n",
    "The rest are all the other eddy command input; masks, bval, eddy index (indices) and eddy param (config)  \n",
    "    \n",
    "#### If we had the data for topup, we would also need to include the topup estimated field here in the '-f' flag"
   ]
  },
  {
   "cell_type": "code",
   "execution_count": null,
   "metadata": {},
   "outputs": [],
   "source": [
    "eddy_quad dwi_eddy \\\n",
    "    -idx eddy_ind.txt \\\n",
    "    -par eddy_config.txt \\\n",
    "    -m mask_for_eddy.nii.gz \\\n",
    "    -b bvals.txt \\\n",
    "    -v"
   ]
  },
  {
   "cell_type": "markdown",
   "metadata": {},
   "source": [
    "It creates a folder called dwi_eddy.qc (by default) containing a few things; we only care about the pdf.\n",
    "\n",
    "The pdf contains graph of subject motion in translation and rotation through time.  \n",
    "Some graphs of eddy estimated outlier slices (remember that we are NOT using that information here, its just showing what eddy calculated)  \n",
    "And finaly we have some mean images post eddy."
   ]
  },
  {
   "cell_type": "markdown",
   "metadata": {},
   "source": [
    "Once you have run eddy_quad on all subjects,  \n",
    "The tool eddy_squad can read all the reports from eddy_quad and produce a study level report."
   ]
  },
  {
   "cell_type": "code",
   "execution_count": null,
   "metadata": {},
   "outputs": [],
   "source": [
    "# First we go back to the root folder\n",
    "# and create a list of all the eddy reports\n",
    "# in a new textfile myquads.txt\n",
    "cd ROOTDIR\n",
    "for SUBID in {01..21}; \n",
    "do \n",
    "    echo 'sub_'$SUBID'/preprocessing/dwi_eddy.qc' >> myquads.txt; \n",
    "done\n",
    "\n",
    "# we then run the study level command on the list\n",
    "eddy_squad myquads.txt\n",
    "\n",
    "# A folder named \"squad\" with a pdf is generated by default\n",
    "\n",
    "# We go back to the processing folder for the rest of the tutorial\n",
    "cd $SUBJECTDIR'preprocessing'\n",
    "pwd"
   ]
  },
  {
   "cell_type": "markdown",
   "metadata": {},
   "source": [
    "#### option 2: Another quick DTI fit"
   ]
  },
  {
   "cell_type": "markdown",
   "metadata": {},
   "source": [
    "This is identical to what we did earlier (begining of january_20)"
   ]
  },
  {
   "cell_type": "code",
   "execution_count": null,
   "metadata": {},
   "outputs": [],
   "source": [
    "# Like we did before eddy, we do a quick dti fit and FA map\n",
    "# using the eddy corrected data and the new bvec\n",
    "dwi2tensor dwi_eddy.nii.gz dti_post_eddy.nii.gz -fslgrad $BVEC $BVAL;\n",
    "tensor2metric dti_post_eddy.nii.gz -fa fa_post_eddy.nii.gz;\n",
    "\n",
    "# we can then visually compare it to the quick dti pre eddy."
   ]
  },
  {
   "cell_type": "code",
   "execution_count": null,
   "metadata": {},
   "outputs": [],
   "source": []
  },
  {
   "cell_type": "markdown",
   "metadata": {},
   "source": [
    "### New brain mask (post eddy)"
   ]
  },
  {
   "cell_type": "markdown",
   "metadata": {},
   "source": [
    "Similar to what we did before eddy, we want to generate a new brain mask using our corrected data.  \n",
    "\n",
    "The first few steps are essentially the same:  \n",
    "- extract the b0 volumes from the eddy correted data.  \n",
    "- Take the mean (no need to run motion correction, the output of eddy is already motion corrected).  \n",
    "- Apply a few iteration of N4 homogenisation (3x).  \n",
    "- Compute the brain mask with fsl BET at multiple different threshld parameter.  \n",
    "\n"
   ]
  },
  {
   "cell_type": "code",
   "execution_count": null,
   "metadata": {},
   "outputs": [],
   "source": [
    "# These commands are identical to the ones from january_13\n",
    "dwiextract $SUBJECTDIR'preprocessing/dwi_eddy.nii.gz' $SUBJECTDIR'preprocessing/b0_denoise_degibbs_eddy.nii.gz' -bzero -fslgrad $BVEC $BVAL;\n",
    "mrmath $SUBJECTDIR'preprocessing/b0_denoise_degibbs_eddy.nii.gz' mean $SUBJECTDIR'preprocessing/b0_avg_denoise_degibbs_eddy.nii.gz' -axis 3;\n",
    "N4BiasFieldCorrection -d 3 -i $SUBJECTDIR'preprocessing/b0_avg_denoise_degibbs_eddy.nii.gz'      -o $SUBJECTDIR'preprocessing/b0_avg_denoise_degibbs_eddy_N4x1.nii.gz';\n",
    "N4BiasFieldCorrection -d 3 -i $SUBJECTDIR'preprocessing/b0_avg_denoise_degibbs_eddy_N4x1.nii.gz' -o $SUBJECTDIR'preprocessing/b0_avg_denoise_degibbs_eddy_N4x2.nii.gz';\n",
    "N4BiasFieldCorrection -d 3 -i $SUBJECTDIR'preprocessing/b0_avg_denoise_degibbs_eddy_N4x2.nii.gz' -o $SUBJECTDIR'preprocessing/b0_avg_denoise_degibbs_eddy_N4x3.nii.gz';\n",
    "bet $SUBJECTDIR'preprocessing/b0_avg_denoise_degibbs_eddy_N4x3.nii.gz' $SUBJECTDIR'preprocessing/b0_eddy_avg_N4x3_bet_0p3.nii.gz' -m -n -f 0.3 -R;\n",
    "bet $SUBJECTDIR'preprocessing/b0_avg_denoise_degibbs_eddy_N4x3.nii.gz' $SUBJECTDIR'preprocessing/b0_eddy_avg_N4x3_bet_0p4.nii.gz' -m -n -f 0.4 -R;\n",
    "bet $SUBJECTDIR'preprocessing/b0_avg_denoise_degibbs_eddy_N4x3.nii.gz' $SUBJECTDIR'preprocessing/b0_eddy_avg_N4x3_bet_0p5.nii.gz' -m -n -f 0.5 -R;\n",
    "bet $SUBJECTDIR'preprocessing/b0_avg_denoise_degibbs_eddy_N4x3.nii.gz' $SUBJECTDIR'preprocessing/b0_eddy_avg_N4x3_bet_0p6.nii.gz' -m -n -f 0.6 -R;\n"
   ]
  },
  {
   "cell_type": "code",
   "execution_count": 4,
   "metadata": {},
   "outputs": [
    {
     "name": "stdout",
     "output_type": "stream",
     "text": [
      "MNIFA='/afs/cbs.mpg.de/software/fsl/6.0.3/ubuntu-bionic-amd64/dat\r",
      "ta/standard/FSL_HCP1065_FA_1mm.nii.gz'\n"
     ]
    },
    {
     "ename": "",
     "evalue": "1",
     "output_type": "error",
     "traceback": []
    }
   ],
   "source": [
    "MNIFA='/afs/cbs.mpg.de/software/fsl/6.0.3/ubuntu-bionic-amd64/data/standard/FSL_HCP1065_FA_1mm.nii.gz'"
   ]
  },
  {
   "cell_type": "markdown",
   "metadata": {},
   "source": [
    "This mask will be used for the registration of our FA to a template in MNI space.  \n",
    "The template as really sharp brain edges and we need the same level of sharpness in the mask, otherwise it will be miss registered.  "
   ]
  },
  {
   "cell_type": "markdown",
   "metadata": {},
   "source": [
    "For this reason, we will perform erosion on the BET mask.  \n",
    "Erosion is an operation that essentially \"removes 1 voxel all around\" at each pass.  \n",
    "\n",
    "Here, for each different threshold of BET, we will apply 1, 2 and 3 passes of erosion and choose a good mask from all these options."
   ]
  },
  {
   "cell_type": "code",
   "execution_count": null,
   "metadata": {},
   "outputs": [],
   "source": [
    "# apply 1, 2 and 3 erosion to all the mask with different threshold\n",
    "maskfilter $SUBJECTDIR'preprocessing/b0_eddy_avg_N4x3_bet_0p3_mask.nii.gz' erode $SUBJECTDIR'preprocessing/b0_eddy_avg_N4x3_bet_0p3_mask_erox1.nii.gz' -npass 1;\n",
    "maskfilter $SUBJECTDIR'preprocessing/b0_eddy_avg_N4x3_bet_0p4_mask.nii.gz' erode $SUBJECTDIR'preprocessing/b0_eddy_avg_N4x3_bet_0p4_mask_erox1.nii.gz' -npass 1;\n",
    "maskfilter $SUBJECTDIR'preprocessing/b0_eddy_avg_N4x3_bet_0p5_mask.nii.gz' erode $SUBJECTDIR'preprocessing/b0_eddy_avg_N4x3_bet_0p5_mask_erox1.nii.gz' -npass 1;\n",
    "maskfilter $SUBJECTDIR'preprocessing/b0_eddy_avg_N4x3_bet_0p6_mask.nii.gz' erode $SUBJECTDIR'preprocessing/b0_eddy_avg_N4x3_bet_0p6_mask_erox1.nii.gz' -npass 1;\n",
    "maskfilter $SUBJECTDIR'preprocessing/b0_eddy_avg_N4x3_bet_0p3_mask.nii.gz' erode $SUBJECTDIR'preprocessing/b0_eddy_avg_N4x3_bet_0p3_mask_erox2.nii.gz' -npass 2;\n",
    "maskfilter $SUBJECTDIR'preprocessing/b0_eddy_avg_N4x3_bet_0p4_mask.nii.gz' erode $SUBJECTDIR'preprocessing/b0_eddy_avg_N4x3_bet_0p4_mask_erox2.nii.gz' -npass 2;\n",
    "maskfilter $SUBJECTDIR'preprocessing/b0_eddy_avg_N4x3_bet_0p5_mask.nii.gz' erode $SUBJECTDIR'preprocessing/b0_eddy_avg_N4x3_bet_0p5_mask_erox2.nii.gz' -npass 2;\n",
    "maskfilter $SUBJECTDIR'preprocessing/b0_eddy_avg_N4x3_bet_0p6_mask.nii.gz' erode $SUBJECTDIR'preprocessing/b0_eddy_avg_N4x3_bet_0p6_mask_erox2.nii.gz' -npass 2;\n",
    "maskfilter $SUBJECTDIR'preprocessing/b0_eddy_avg_N4x3_bet_0p3_mask.nii.gz' erode $SUBJECTDIR'preprocessing/b0_eddy_avg_N4x3_bet_0p3_mask_erox3.nii.gz' -npass 3;\n",
    "maskfilter $SUBJECTDIR'preprocessing/b0_eddy_avg_N4x3_bet_0p4_mask.nii.gz' erode $SUBJECTDIR'preprocessing/b0_eddy_avg_N4x3_bet_0p4_mask_erox3.nii.gz' -npass 3;\n",
    "maskfilter $SUBJECTDIR'preprocessing/b0_eddy_avg_N4x3_bet_0p5_mask.nii.gz' erode $SUBJECTDIR'preprocessing/b0_eddy_avg_N4x3_bet_0p5_mask_erox3.nii.gz' -npass 3;\n",
    "maskfilter $SUBJECTDIR'preprocessing/b0_eddy_avg_N4x3_bet_0p6_mask.nii.gz' erode $SUBJECTDIR'preprocessing/b0_eddy_avg_N4x3_bet_0p6_mask_erox3.nii.gz' -npass 3;    "
   ]
  },
  {
   "cell_type": "code",
   "execution_count": null,
   "metadata": {},
   "outputs": [],
   "source": [
    "# Apply all the mask to the FA\n",
    "mrcalc $SUBJECTDIR'preprocessing/fa_post_eddy.nii.gz' $SUBJECTDIR'preprocessing/b0_eddy_avg_N4x3_bet_0p3_mask.nii.gz' -mul $SUBJECTDIR'preprocessing/fa_post_eddy_masked_0p3.nii.gz';\n",
    "mrcalc $SUBJECTDIR'preprocessing/fa_post_eddy.nii.gz' $SUBJECTDIR'preprocessing/b0_eddy_avg_N4x3_bet_0p4_mask.nii.gz' -mul $SUBJECTDIR'preprocessing/fa_post_eddy_masked_0p4.nii.gz';\n",
    "mrcalc $SUBJECTDIR'preprocessing/fa_post_eddy.nii.gz' $SUBJECTDIR'preprocessing/b0_eddy_avg_N4x3_bet_0p5_mask.nii.gz' -mul $SUBJECTDIR'preprocessing/fa_post_eddy_masked_0p5.nii.gz';\n",
    "mrcalc $SUBJECTDIR'preprocessing/fa_post_eddy.nii.gz' $SUBJECTDIR'preprocessing/b0_eddy_avg_N4x3_bet_0p6_mask.nii.gz' -mul $SUBJECTDIR'preprocessing/fa_post_eddy_masked_0p6.nii.gz';\n",
    "mrcalc $SUBJECTDIR'preprocessing/fa_post_eddy.nii.gz' $SUBJECTDIR'preprocessing/b0_eddy_avg_N4x3_bet_0p3_mask_erox1.nii.gz' -mul $SUBJECTDIR'preprocessing/fa_post_eddy_masked_0p3_erox1.nii.gz';\n",
    "mrcalc $SUBJECTDIR'preprocessing/fa_post_eddy.nii.gz' $SUBJECTDIR'preprocessing/b0_eddy_avg_N4x3_bet_0p4_mask_erox1.nii.gz' -mul $SUBJECTDIR'preprocessing/fa_post_eddy_masked_0p4_erox1.nii.gz';\n",
    "mrcalc $SUBJECTDIR'preprocessing/fa_post_eddy.nii.gz' $SUBJECTDIR'preprocessing/b0_eddy_avg_N4x3_bet_0p5_mask_erox1.nii.gz' -mul $SUBJECTDIR'preprocessing/fa_post_eddy_masked_0p5_erox1.nii.gz';\n",
    "mrcalc $SUBJECTDIR'preprocessing/fa_post_eddy.nii.gz' $SUBJECTDIR'preprocessing/b0_eddy_avg_N4x3_bet_0p6_mask_erox1.nii.gz' -mul $SUBJECTDIR'preprocessing/fa_post_eddy_masked_0p6_erox1.nii.gz';\n",
    "mrcalc $SUBJECTDIR'preprocessing/fa_post_eddy.nii.gz' $SUBJECTDIR'preprocessing/b0_eddy_avg_N4x3_bet_0p3_mask_erox2.nii.gz' -mul $SUBJECTDIR'preprocessing/fa_post_eddy_masked_0p3_erox2.nii.gz';\n",
    "mrcalc $SUBJECTDIR'preprocessing/fa_post_eddy.nii.gz' $SUBJECTDIR'preprocessing/b0_eddy_avg_N4x3_bet_0p4_mask_erox2.nii.gz' -mul $SUBJECTDIR'preprocessing/fa_post_eddy_masked_0p4_erox2.nii.gz';\n",
    "mrcalc $SUBJECTDIR'preprocessing/fa_post_eddy.nii.gz' $SUBJECTDIR'preprocessing/b0_eddy_avg_N4x3_bet_0p5_mask_erox2.nii.gz' -mul $SUBJECTDIR'preprocessing/fa_post_eddy_masked_0p5_erox2.nii.gz';\n",
    "mrcalc $SUBJECTDIR'preprocessing/fa_post_eddy.nii.gz' $SUBJECTDIR'preprocessing/b0_eddy_avg_N4x3_bet_0p6_mask_erox2.nii.gz' -mul $SUBJECTDIR'preprocessing/fa_post_eddy_masked_0p6_erox2.nii.gz';\n",
    "mrcalc $SUBJECTDIR'preprocessing/fa_post_eddy.nii.gz' $SUBJECTDIR'preprocessing/b0_eddy_avg_N4x3_bet_0p3_mask_erox3.nii.gz' -mul $SUBJECTDIR'preprocessing/fa_post_eddy_masked_0p3_erox3.nii.gz';\n",
    "mrcalc $SUBJECTDIR'preprocessing/fa_post_eddy.nii.gz' $SUBJECTDIR'preprocessing/b0_eddy_avg_N4x3_bet_0p4_mask_erox3.nii.gz' -mul $SUBJECTDIR'preprocessing/fa_post_eddy_masked_0p4_erox3.nii.gz';\n",
    "mrcalc $SUBJECTDIR'preprocessing/fa_post_eddy.nii.gz' $SUBJECTDIR'preprocessing/b0_eddy_avg_N4x3_bet_0p5_mask_erox3.nii.gz' -mul $SUBJECTDIR'preprocessing/fa_post_eddy_masked_0p5_erox3.nii.gz';\n",
    "mrcalc $SUBJECTDIR'preprocessing/fa_post_eddy.nii.gz' $SUBJECTDIR'preprocessing/b0_eddy_avg_N4x3_bet_0p6_mask_erox3.nii.gz' -mul $SUBJECTDIR'preprocessing/fa_post_eddy_masked_0p6_erox3.nii.gz';\n"
   ]
  },
  {
   "cell_type": "code",
   "execution_count": 3,
   "metadata": {},
   "outputs": [
    {
     "name": "stdout",
     "output_type": "stream",
     "text": [
      "# Visually select the correct mask\n",
      "# For most subject here it was BET 0.4 and erosion 3 times\n",
      "\n",
      "# good mask:\n",
      "# b0_eddy_avg_N4x3_bet_0p4_mask_erox3.nii.gz\n",
      "# masked FA for registration:\n",
      "# fa_post_eddy_masked_0p4_erox3.nii.gz\n",
      "\n",
      "# We can save it to a variable for each subject\n",
      "BETMASKANTS='b0_eddy_avg_N4x3_bet_0p4_mask_erox3.nii.gz'\n",
      "MASKEDFAANTS='fa_post_eddy_masked_0p4_erox3.nii.gz'\n"
     ]
    },
    {
     "ename": "",
     "evalue": "1",
     "output_type": "error",
     "traceback": []
    }
   ],
   "source": [
    "# Visually select the correct mask\n",
    "# For most subject here it was BET 0.4 and erosion 3 times\n",
    "\n",
    "# good mask:\n",
    "# b0_eddy_avg_N4x3_bet_0p4_mask_erox3.nii.gz\n",
    "# masked FA for registration:\n",
    "# fa_post_eddy_masked_0p4_erox3.nii.gz\n",
    "\n",
    "# We can save it to a variable for each subject\n",
    "BETMASKANTS='b0_eddy_avg_N4x3_bet_0p4_mask_erox3.nii.gz'\n",
    "MASKEDFAANTS='fa_post_eddy_masked_0p4_erox3.nii.gz'"
   ]
  },
  {
   "cell_type": "code",
   "execution_count": null,
   "metadata": {},
   "outputs": [],
   "source": []
  },
  {
   "cell_type": "code",
   "execution_count": null,
   "metadata": {},
   "outputs": [],
   "source": []
  },
  {
   "cell_type": "code",
   "execution_count": null,
   "metadata": {},
   "outputs": [],
   "source": [
    "antsRegistrationSyNQuick.sh -d 3 \\\n",
    "    -f $MNIFA \\\n",
    "    -m $MASKEDFAANTS \\\n",
    "    -o fa_eddy \\\n",
    "    -n 20;"
   ]
  },
  {
   "cell_type": "markdown",
   "metadata": {},
   "source": [
    "<!-- quicksyn fa to atlas -->\n",
    "<!-- qc forward and inverse -->"
   ]
  },
  {
   "cell_type": "markdown",
   "metadata": {},
   "source": [
    "<!-- show and explain true command ants -->"
   ]
  },
  {
   "cell_type": "code",
   "execution_count": null,
   "metadata": {},
   "outputs": [],
   "source": [
    "part 1 of the transform \"fa_eddy0GenericAffine.mat\"*\n",
    "part 2 of the transform \"fa_eddy1Warp.nii.gz\"*\n",
    "part 2 of the inverse transform \"fa_eddy1InverseWarp.nii.gz\"*\n",
    "subject FA in MNIspace \"fa_eddyWarped.nii.gz\"*\n",
    "template in subject space \"fa_eddyInverseWarped.nii.gz\"*\n"
   ]
  },
  {
   "cell_type": "code",
   "execution_count": null,
   "metadata": {},
   "outputs": [],
   "source": []
  },
  {
   "cell_type": "code",
   "execution_count": null,
   "metadata": {},
   "outputs": [],
   "source": []
  },
  {
   "cell_type": "code",
   "execution_count": null,
   "metadata": {},
   "outputs": [],
   "source": []
  },
  {
   "cell_type": "code",
   "execution_count": null,
   "metadata": {},
   "outputs": [],
   "source": []
  },
  {
   "cell_type": "code",
   "execution_count": null,
   "metadata": {},
   "outputs": [],
   "source": []
  },
  {
   "cell_type": "code",
   "execution_count": null,
   "metadata": {},
   "outputs": [],
   "source": []
  },
  {
   "cell_type": "code",
   "execution_count": null,
   "metadata": {},
   "outputs": [],
   "source": []
  },
  {
   "cell_type": "code",
   "execution_count": null,
   "metadata": {},
   "outputs": [],
   "source": []
  },
  {
   "cell_type": "code",
   "execution_count": null,
   "metadata": {},
   "outputs": [],
   "source": []
  },
  {
   "cell_type": "code",
   "execution_count": null,
   "metadata": {},
   "outputs": [],
   "source": []
  },
  {
   "cell_type": "code",
   "execution_count": null,
   "metadata": {},
   "outputs": [],
   "source": []
  },
  {
   "cell_type": "code",
   "execution_count": null,
   "metadata": {},
   "outputs": [],
   "source": []
  },
  {
   "cell_type": "code",
   "execution_count": null,
   "metadata": {},
   "outputs": [],
   "source": []
  },
  {
   "cell_type": "code",
   "execution_count": null,
   "metadata": {},
   "outputs": [],
   "source": []
  },
  {
   "cell_type": "code",
   "execution_count": null,
   "metadata": {},
   "outputs": [],
   "source": []
  },
  {
   "cell_type": "code",
   "execution_count": null,
   "metadata": {},
   "outputs": [],
   "source": []
  },
  {
   "cell_type": "code",
   "execution_count": null,
   "metadata": {},
   "outputs": [],
   "source": []
  },
  {
   "cell_type": "code",
   "execution_count": null,
   "metadata": {},
   "outputs": [],
   "source": []
  }
 ],
 "metadata": {
  "kernelspec": {
   "display_name": "Bash",
   "language": "bash",
   "name": "bash"
  },
  "language_info": {
   "codemirror_mode": "shell",
   "file_extension": ".sh",
   "mimetype": "text/x-sh",
   "name": "bash"
  }
 },
 "nbformat": 4,
 "nbformat_minor": 4
}
