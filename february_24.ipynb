{
 "cells": [
  {
   "cell_type": "markdown",
   "metadata": {},
   "source": [
    "# DWI preprocessing\n",
    "## using MRTRIX, FSL and ANTS\n",
    "### by Michael Paquette\n",
    "#### Notes from Feb 24th"
   ]
  },
  {
   "cell_type": "markdown",
   "metadata": {},
   "source": [
    "In this serie of bash notebook, I will be describing a basic DWI data preprocessing pipeline."
   ]
  },
  {
   "cell_type": "markdown",
   "metadata": {},
   "source": [
    "I will try to stick to this (loose) general format to describe each step:  \n",
    "\n",
    "- What is the artefact we are trying to correct or the transformation we are trying to achieve  \n",
    "- Why does this happen  \n",
    "- What would happen if we didnt correct/modify \n",
    "- Why is this step here (somewhat arbitrary or specific ordering)  \n",
    "- Important parameters of the tool (and which one are likely to need finetuning)  \n",
    "- What to look for when doing QC (quality control)"
   ]
  },
  {
   "cell_type": "code",
   "execution_count": null,
   "metadata": {},
   "outputs": [],
   "source": []
  },
  {
   "cell_type": "code",
   "execution_count": 1,
   "metadata": {},
   "outputs": [
    {
     "name": "stdout",
     "output_type": "stream",
     "text": [
      "# Like last time, we setup the basic variable with the folders\n",
      "ROOTDIR='/data/pt_02586/'\n",
      "SUBJECTDIR=$ROOTDIR'sub_01/'\n",
      "# and we move to the preprocessing folder\n",
      "cd $SUBJECTDIR'preprocessing'\n",
      "pwd\n",
      "/data/pt_02586/sub_01/preprocessing\n"
     ]
    },
    {
     "ename": "",
     "evalue": "1",
     "output_type": "error",
     "traceback": []
    }
   ],
   "source": [
    "# Like last time, we setup the basic variable with the folders\n",
    "ROOTDIR='/data/pt_02586/'\n",
    "SUBJECTDIR=$ROOTDIR'sub_01/'\n",
    "# and we move to the preprocessing folder\n",
    "cd $SUBJECTDIR'preprocessing'\n",
    "pwd"
   ]
  },
  {
   "cell_type": "code",
   "execution_count": 2,
   "metadata": {},
   "outputs": [
    {
     "name": "stdout",
     "output_type": "stream",
     "text": [
      "# We use from now on and forever the NEW bvec\n",
      "# that were created by the EDDY command\n",
      "# because they contain the small rotation\n",
      "# that were introduced by motion correction\n",
      "BVEC=$SUBJECTDIR'preprocessing/dwi_eddy.eddy_rotated_bvecs';\n",
      "BVAL=$SUBJECTDIR'preprocessing/bvals.txt';\n"
     ]
    },
    {
     "ename": "",
     "evalue": "1",
     "output_type": "error",
     "traceback": []
    }
   ],
   "source": [
    "# We use from now on and forever the NEW bvec\n",
    "# that were created by the EDDY command\n",
    "# because they contain the small rotation\n",
    "# that were introduced by motion correction\n",
    "BVEC=$SUBJECTDIR'preprocessing/dwi_eddy.eddy_rotated_bvecs';\n",
    "BVAL=$SUBJECTDIR'preprocessing/bvals.txt';"
   ]
  },
  {
   "cell_type": "code",
   "execution_count": null,
   "metadata": {},
   "outputs": [],
   "source": []
  },
  {
   "cell_type": "code",
   "execution_count": 4,
   "metadata": {
    "scrolled": true
   },
   "outputs": [
    {
     "name": "stdout",
     "output_type": "stream",
     "text": [
      "# In pratice, we have the MNI template\n",
      "ta/standard/FSL_HCP1065_FA_1mm.nii.gz'0.3/ubuntu-bionic-amd64/dat\n"
     ]
    },
    {
     "ename": "",
     "evalue": "1",
     "output_type": "error",
     "traceback": []
    }
   ],
   "source": [
    "# In pratice, we have the MNI template\n",
    "MNIFA='/afs/cbs.mpg.de/software/fsl/6.0.3/ubuntu-bionic-amd64/data/standard/FSL_HCP1065_FA_1mm.nii.gz'"
   ]
  },
  {
   "cell_type": "code",
   "execution_count": null,
   "metadata": {},
   "outputs": [],
   "source": []
  },
  {
   "cell_type": "markdown",
   "metadata": {},
   "source": [
    "### Diffusion Local Modeling"
   ]
  },
  {
   "cell_type": "markdown",
   "metadata": {},
   "source": [
    "- The diffusion signal intensity is inversely proportional to the \"amount of diffusion\" in a given direction.  \n",
    "- In our protocol, We have a lot of diffusion directions to \"sample\" this signal on the sphere.  \n",
    "\n",
    "This signal on the sphere can be transformed into a **diffusion orientation distribution function (dODF)**, typically represented as a deformed sphere which represent the \"amount of diffusion\" at all orientations.  \n",
    "\n",
    "- There is more diffusion along the orientation of WM bundles then across because it is easier (less obstacles) for water molecule to move in that directions.  \n",
    "- Therefore, the maximas of the dODF should match bundle orienation.  \n",
    "- However, there is still some diffusion in other orientations.  \n",
    "\n",
    "This is why we want to create a **fiber orientation distribution function (fODF or FOD)** which is an object representing the \"probabilities\" or \"proportion\" of fiber at all orientation instead.  \n",
    "\n",
    "This is very similar to the dODF but with sharper peak and it is therefore the prefered object for tractography.  \n",
    "\n",
    "The idea is to estimate what the **dODF** looks like for voxel with only a single very well alligned bundle (no crossing, no fanning).  \n",
    "We then use that special single bundle dODF (called response function) to **deconvolve** all the dODF in the brain and therefore compute de fODF. You can think of decovolution as a de-blurring on the sphere.  "
   ]
  },
  {
   "cell_type": "markdown",
   "metadata": {},
   "source": [
    "We use \"dwi2response\" and \"dwi2fod\" from MRTRIX to estimate the response function and compute the fODF. \n",
    "This model is called constrained spherical deconvolution (CSD).  \n",
    "\n",
    "And important detail of CSD is that it first fits a spherical harmonics (SH) to represent the signal, instead of working directly on the discrete bvec samples. We have to set a maximum order for the SH basis (-lmax) which will depend on the number of bvecs we have.  \n",
    "The most common choice is lmax=8 (or sh order 8) but this requires 45+ bvecs to be well defined (i.e. the SH basis of order maximum 8 has 45 degree-of-freedom).  \n",
    "Here we have 30 bvecs, we will therefore use lmax=6 (28 dof).\n",
    "The generic formula for the number of dof of SH basis lmax is $$\\frac{(l_\\max+1)(l_\\max+2)}{2}$$  \n",
    "\n",
    "But in practice, you wouldnt want to use more than lmax=8 even if you have tons bvecs and you wouldnt be using CSD if you have less than 30 bvecs, so it's pretty much always order 8 or 6.  \n"
   ]
  },
  {
   "cell_type": "code",
   "execution_count": null,
   "metadata": {},
   "outputs": [],
   "source": []
  },
  {
   "cell_type": "code",
   "execution_count": null,
   "metadata": {},
   "outputs": [],
   "source": [
    "# command to estimate the single-fiber response function\n",
    "# we use the fa method here which is simple and works well for in-vivo single bvalue\n",
    "# This command will find the highest FA voxel inside a mask, align them and fit the SH.\n",
    "# parameters:\n",
    "# diffusion data\n",
    "# file name to store the response function\n",
    "# -fslgrad: bvecs and bvals\n",
    "# -mask: (we dont want to include \"artefact\" voxels outside the brain as potential candidate)\n",
    "# Here the mask is a tight brain mask with an FA threshold\n",
    "# -voxels: file name to save a mask of which voxels where selected as single fiber population\n",
    "# -lmax: SH basis order for the response function, this should always be 4\n",
    "# -ntheads: number of cpu for faster computation\n",
    "# -number: the number of single fiber voxel to use\n",
    "dwi2response fa \\\n",
    "    dwi_eddy.nii.gz \\\n",
    "    response_fa.txt \\\n",
    "    -fslgrad $BVEC $BVAL \\\n",
    "    -mask fa_eddy_th0p3.nii.gz \\\n",
    "    -voxels response_voxel_fa.nii.gz \\\n",
    "    -lmax 4 \\\n",
    "    -nthreads 20 \\\n",
    "    -number 300;\n"
   ]
  },
  {
   "cell_type": "code",
   "execution_count": null,
   "metadata": {},
   "outputs": [],
   "source": [
    "# You can visually inspect the response function with the following command:\n",
    "shview response_fa.txt\n",
    "# It should look like a puffy disk"
   ]
  },
  {
   "cell_type": "code",
   "execution_count": null,
   "metadata": {},
   "outputs": [],
   "source": [
    "# command to compute csd on the brain\n",
    "# we specify csd as the model since we are using single bvalue data\n",
    "# parameters: \n",
    "# diffusion data\n",
    "# the response function\n",
    "# file name to save the FOD (it is saved as SH coefficients)\n",
    "# -fslgrad: bvecs and bvals\n",
    "# -mask: Here I am using a larger mask than for the response function (a BET mask)\n",
    "# This is because I want to make sure I have an FOD everywhere, including low FA voxels\n",
    "# (such has crossing or near cortex sometimes)\n",
    "# -ntheads: number of cpu for faster computation\n",
    "# -lmax: SH basis discused before, this depends on the number of bvec\n",
    "dwi2fod csd \\\n",
    "    dwi_eddy.nii.gz \\\n",
    "    response_fa.txt \\\n",
    "    fod_lmax6.nii.gz \\\n",
    "    -fslgrad $BVEC $BVAL \\\n",
    "    -mask b0_eddy_avg_N4x3_bet_0p4_mask.nii.gz \\\n",
    "    -nthreads 20 \\\n",
    "    -lmax 6;\n"
   ]
  },
  {
   "cell_type": "code",
   "execution_count": null,
   "metadata": {},
   "outputs": [],
   "source": []
  },
  {
   "cell_type": "code",
   "execution_count": null,
   "metadata": {},
   "outputs": [],
   "source": []
  }
 ],
 "metadata": {
  "kernelspec": {
   "display_name": "Bash",
   "language": "bash",
   "name": "bash"
  },
  "language_info": {
   "codemirror_mode": "shell",
   "file_extension": ".sh",
   "mimetype": "text/x-sh",
   "name": "bash"
  }
 },
 "nbformat": 4,
 "nbformat_minor": 4
}
