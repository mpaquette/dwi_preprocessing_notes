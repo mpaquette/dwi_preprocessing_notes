{
 "cells": [
  {
   "cell_type": "markdown",
   "metadata": {},
   "source": [
    "# DWI preprocessing\n",
    "## using MRTRIX, FSL and ANTS\n",
    "### by Michael Paquette\n",
    "#### Notes from Dec 15th"
   ]
  },
  {
   "cell_type": "markdown",
   "metadata": {},
   "source": [
    "In this serie of bash notebook, I will be describing a basic DWI data preprocessing pipeline."
   ]
  },
  {
   "cell_type": "markdown",
   "metadata": {},
   "source": [
    "I will try to stick to this (loose) general format to describe each step:  \n",
    "\n",
    "- What is the artefact we are trying to correct or the transformation we are trying to achieve  \n",
    "- Why does this happen  \n",
    "- What would happen if we didnt correct/modify \n",
    "- Why is this step here (somewhat arbitrary or specific ordering)  \n",
    "- Important parameters of the tool (and which one are likely to need finetuning)  \n",
    "- What to look for when doing QC (quality control)"
   ]
  },
  {
   "cell_type": "code",
   "execution_count": 1,
   "metadata": {},
   "outputs": [
    {
     "name": "stdout",
     "output_type": "stream",
     "text": [
      "# Like last time, we setup the basic variable with the folders\n",
      "ROOTDIR='/data/pt_02586/'\n",
      "SUBJECTDIR=$ROOTDIR'sub_01/'\n"
     ]
    },
    {
     "ename": "",
     "evalue": "1",
     "output_type": "error",
     "traceback": []
    }
   ],
   "source": [
    "# Like last time, we setup the basic variable with the folders\n",
    "ROOTDIR='/data/pt_02586/'\n",
    "SUBJECTDIR=$ROOTDIR'sub_01/'"
   ]
  },
  {
   "cell_type": "code",
   "execution_count": 2,
   "metadata": {},
   "outputs": [
    {
     "name": "stdout",
     "output_type": "stream",
     "text": [
      "# and we move to the preprocessing folder\n",
      "cd $SUBJECTDIR'preprocessing'\n"
     ]
    },
    {
     "ename": "",
     "evalue": "1",
     "output_type": "error",
     "traceback": []
    }
   ],
   "source": [
    "# and we move to the preprocessing folder\n",
    "cd $SUBJECTDIR'preprocessing'"
   ]
  },
  {
   "cell_type": "code",
   "execution_count": 3,
   "metadata": {},
   "outputs": [
    {
     "name": "stdout",
     "output_type": "stream",
     "text": [
      "pwd\n",
      "/data/pt_02586/sub_01/preprocessing\n"
     ]
    },
    {
     "ename": "",
     "evalue": "1",
     "output_type": "error",
     "traceback": []
    }
   ],
   "source": [
    "pwd"
   ]
  },
  {
   "cell_type": "code",
   "execution_count": 4,
   "metadata": {},
   "outputs": [
    {
     "name": "stdout",
     "output_type": "stream",
     "text": [
      "# our dwi data is converted to nifti format,\n",
      "# with strides 1,2,3,4\n",
      "# and datatype float32\n",
      "mrinfo $SUBJECTDIR'preprocessing/dwi.nii.gz'\n",
      "************************************************\n",
      "Image name:          \"/data/pt_02586/sub_01/preprocessing/dwi.nii.gz\"\n",
      "************************************************\n",
      "  Dimensions:        128 x 128 x 88 x 71\n",
      "  Voxel size:        1.71875 x 1.71875 x 1.7 x 4.5\n",
      "  Data strides:      [ 1 2 3 4 ]\n",
      "  Format:            NIfTI-1.1 (GZip compressed)\n",
      "  Data type:         32 bit float (little endian)\n",
      "  Intensity scaling: offset = 0, multiplier = 1\n",
      "  Transform:                    1           0          -0      -107.6\n",
      "                                0           1          -0        -103\n",
      "                               -0           0           1      -50.63\n",
      "  comments:          TE=60;Time=135542\n",
      "  mrtrix_version:    3.0.0\n"
     ]
    },
    {
     "ename": "",
     "evalue": "1",
     "output_type": "error",
     "traceback": []
    }
   ],
   "source": [
    "# our dwi data is converted to nifti format,\n",
    "# with strides 1,2,3,4\n",
    "# and datatype float32\n",
    "mrinfo $SUBJECTDIR'preprocessing/dwi.nii.gz'"
   ]
  },
  {
   "cell_type": "markdown",
   "metadata": {},
   "source": [
    "### Denoising"
   ]
  },
  {
   "cell_type": "markdown",
   "metadata": {},
   "source": [
    "#### What are we correcting?\n",
    "\"Noise\" in an MRI image is a deviation from the true signal value.   \n",
    "#### Why does this happen?\n",
    "random thermal fluctuation in the sensor.\n",
    "#### What if we ignore it?\n",
    "Noise makes regions less homogenous than they should be and leads to bias in model estimation.  \n",
    "#### Why correct it now?\n",
    "Correcting noise depend on having some prior knowledge of its mathematical form. For instance, any steps that involve registration (like motion correction or distorsion correction) will involve some amount of interpolation which will destroy our priors on the noise.  \n",
    "#### correction tool: dwidenoise\n",
    "dwidenoise is the MRtrix denoising (for dwi, it requires a 4th dimension of 30+ images).  \n",
    "It is very convenient because it doesnt require to estimate the level of noise before, doesnt require masking and it doesnt blur the image.  \n",
    "It is a PCA thresholding type of denoising (more later).  \n",
    "In a nutshell, it takes small 5x5x5 blocks in space across all bvecs and exploit similarity + known properties of random noise.  \n",
    "There are no relevant flags to change, default parameter are good. I am only using the -noise flag to output the estimated noise levels (standard deviations of a normal distribution in each 5x5x5 block)  \n",
    "If you have a very large number of diffusion directions, you might need to use a bigger windows like 7x7x7 by adding the flag '-extent 7'. This is because you need more voxel in your windows than the amount of image you have in the 4th dimension. So for instance the default 5x5x5 kernel has 5^3 = 125 voxels, so its enough for the the 70 volumes we have.  \n",
    "#### Quality control\n",
    "- When looking at the noise that was removed, there should not be obvious anatomical structure apart from ventricule and outline of the brain/skull.  \n",
    "- When looking at the map of sigma noise level, its should be relatively smooth with higher values in the center.  \n",
    "\n",
    "#### Denoising can introduce negative values in the image, proper care (like clipping them to 0) will be required later"
   ]
  },
  {
   "cell_type": "code",
   "execution_count": 14,
   "metadata": {},
   "outputs": [
    {
     "name": "stdout",
     "output_type": "stream",
     "text": [
      "# dwidenoise $SUBJECTDIR'preprocessing/dwi.nii.gz' \\\n",
      "#            $SUBJECTDIR'preprocessing/dwi_denoise.nii.gz' \\\n",
      "'            -noise $SUBJECTDIR'preprocessing/mppca_sigma.nii.gz'\n"
     ]
    },
    {
     "ename": "",
     "evalue": "1",
     "output_type": "error",
     "traceback": []
    }
   ],
   "source": [
    "dwidenoise $SUBJECTDIR'preprocessing/dwi.nii.gz' \\\n",
    "           $SUBJECTDIR'preprocessing/dwi_denoise.nii.gz' \\\n",
    "           -noise $SUBJECTDIR'preprocessing/mppca_sigma.nii.gz'"
   ]
  },
  {
   "cell_type": "code",
   "execution_count": 19,
   "metadata": {},
   "outputs": [
    {
     "name": "stdout",
     "output_type": "stream",
     "text": [
      "# Compute a map of the removed noise with \"mrcalc\"\n",
      "# residual = noisy minus denoised\n",
      "# mrcalc $SUBJECTDIR'preprocessing/dwi.nii.gz' \\\n",
      "#        $SUBJECTDIR'preprocessing/dwi_denoise.nii.gz' \\\n",
      "l.nii.gz'-subtract $SUBJECTDIR'preprocessing/dwi_denoise_residual\n"
     ]
    },
    {
     "ename": "",
     "evalue": "1",
     "output_type": "error",
     "traceback": []
    }
   ],
   "source": [
    "# Compute a map of the removed noise with \"mrcalc\"\n",
    "# residual = noisy minus denoised\n",
    "mrcalc $SUBJECTDIR'preprocessing/dwi.nii.gz' \\\n",
    "       $SUBJECTDIR'preprocessing/dwi_denoise.nii.gz' \\\n",
    "       -subtract $SUBJECTDIR'preprocessing/dwi_denoise_residual.nii.gz'"
   ]
  },
  {
   "cell_type": "code",
   "execution_count": 21,
   "metadata": {},
   "outputs": [
    {
     "name": "stdout",
     "output_type": "stream",
     "text": [
      "# We compute the absolute value of the residual with \"mrabs\"\n",
      "# This is useful because the removed noise can be + or -\n",
      "# but we mostly care about the \"amount\" of it that was removed\n",
      "mrabs $SUBJECTDIR'preprocessing/dwi_denoise_residual.nii.gz' \\\n",
      "      $SUBJECTDIR'preprocessing/dwi_denoise_ABSresidual.nii.gz'\n",
      "mrabs: taking absolute value... 100%\n",
      "mrabs: error creating file \"/data/pt_02586/sub_01/preprocessing/dwi_denoise_ABSresidual.nii.gz\": File exists\n",
      "terminate called after throwing an instance of 'MR::Exception'\n",
      "Aborted\n"
     ]
    },
    {
     "ename": "",
     "evalue": "1",
     "output_type": "error",
     "traceback": []
    }
   ],
   "source": [
    "# We compute the absolute value of the residual with \"mrabs\"\n",
    "# This is useful because the removed noise can be + or -\n",
    "# but we mostly care about the \"amount\" of it that was removed\n",
    "mrabs $SUBJECTDIR'preprocessing/dwi_denoise_residual.nii.gz' \\\n",
    "      $SUBJECTDIR'preprocessing/dwi_denoise_ABSresidual.nii.gz'"
   ]
  },
  {
   "cell_type": "markdown",
   "metadata": {},
   "source": [
    "### MRtrix viewer: mrview\n",
    "mrview is a good viewer for QC (better then fsleyes) because its really simple and fast to switch between images (pageUp and pageDown keyboard keys cycle through all the opened images).  \n",
    "Typical QC use-case:  \n",
    "mrview image_before.nii.gz image_after.nii.gz  \n",
    "Other useful keyboard shortcut:  \n",
    "i: disable/enable image (i)nterpolation  \n",
    "esc: auto adjust contract with respect to current 2D image  \n",
    "a/s/c: change the view axis between (a)xial (s)aggital and (c)oronal.  \n",
    "left and right arrow: move in the 4th dimension of the image."
   ]
  },
  {
   "cell_type": "code",
   "execution_count": 23,
   "metadata": {},
   "outputs": [
    {
     "name": "stdout",
     "output_type": "stream",
     "text": [
      "mrview $SUBJECTDIR'preprocessing/dwi_denoise_ABSresidual.nii.gz' \r",
      "\u001b[A\u001b[C\u001b[C\u001b[C\u001b[C\u001b[C\u001b[C\u001b[C\u001b[C\u001b[C\u001b[C\u001b[C\u001b[C\u001b[C\u001b[C\u001b[C\u001b[C\u001b[C\u001b[C\u001b[C\u001b[C\u001b[C\u001b[C\u001b[C\u001b[C\u001b[C\u001b[C\u001b[C\u001b[C\u001b[C\u001b[C\u001b[C\u001b[C\u001b[C\u001b[C\u001b[C\u001b[C\u001b[C\u001b[C\u001b[C\u001b[C\u001b[C\u001b[C\u001b[C\u001b[C\u001b[C\u001b[C\u001b[C\u001b[C\u001b[C\u001b[C\u001b[C\u001b[C\u001b[C\u001b[C\u001b[C\u001b[C\u001b[C\u001b[C\u001b[C\u001b[C\u001b[C\u001b[C\u001b[C\u001b[C\u001b[C\u001b[C\u001b[C\u001b[C\u001b[C\u001b[C\u001b[C\u001b[C\u001b[C\u001b[C\u001b[C\u001b[C\u001b[C\u001b[C\u001b[C\u001b[K'\n"
     ]
    },
    {
     "ename": "",
     "evalue": "1",
     "output_type": "error",
     "traceback": []
    }
   ],
   "source": [
    "mrview $SUBJECTDIR'preprocessing/dwi_denoise_ABSresidual.nii.gz'"
   ]
  },
  {
   "cell_type": "markdown",
   "metadata": {},
   "source": [
    "### Gibbs ringing correction"
   ]
  },
  {
   "cell_type": "markdown",
   "metadata": {},
   "source": [
    "#### What are we correcting?\n",
    "We are correcting the gibbs ringing artefact.  \n",
    "#### Why does this happen?\n",
    "Since MRI acquisition is based on the (finite) fourier space of the image, sharp edges are misrepresented.  \n",
    "#### What if we ignore it?\n",
    "Gibbs ringing looks like noise that follow the shape of edges and fade as you get away from them, it will bias estimation near edges.  \n",
    "#### Why correct it now?\n",
    "Since ringing has a very specific shape, you need to corect it before the image is interpolated.  \n",
    "#### correction tool: mrdegibbs (2D version)\n",
    "mrdegibbs is the gibbs ringing correction tool from the MRtrix software.  \n",
    "We are using the default one which is a 2D version of the tool. It works one slice at the time and it is IMPORTANT to specify which axes of the image where the true slice orientation from the acquisition. Since gibbs ringing is a very specific acquisition related artefact, It will NOT work in the wrong orientation. The slice encoding orientation is encoded in the DICOM header, when we ran \"mrinfo\" on the DICOM previously, it showed \"SliceEncodingDirection: k\" in the extra information, this mean that the slice encoding direction is the 3rd axe (it goes (i, j, k)), therefore we will run the tool on every (i, j) 2D slice.  \n",
    "The tool has a -axes flag to specify this, \"-axes 0,1\" in this case (because they start counting at 0).\n",
    "#### Quality control\n",
    "- When looking at the image of the removed ringing (residual), it should look like the edges of the brain, the skull, the ventricule and other features with large intensity change with oscilliating \"ghost\" edges fading away as they get more distant from the true edge.\n",
    "#### Degibbsing can introduce negative values in the image, proper care (like clipping them to 0) will be required later\n"
   ]
  },
  {
   "cell_type": "code",
   "execution_count": 24,
   "metadata": {},
   "outputs": [
    {
     "name": "stdout",
     "output_type": "stream",
     "text": [
      "# mrdegibbs $SUBJECTDIR'preprocessing/dwi_denoise.nii.gz' \\\n",
      "' \\         $SUBJECTDIR'preprocessing/dwi_denoise_degibbs.nii.gz'\n",
      "#           -axes 0,1\n"
     ]
    },
    {
     "ename": "",
     "evalue": "1",
     "output_type": "error",
     "traceback": []
    }
   ],
   "source": [
    "mrdegibbs $SUBJECTDIR'preprocessing/dwi_denoise.nii.gz' \\\n",
    "          $SUBJECTDIR'preprocessing/dwi_denoise_degibbs.nii.gz' \\\n",
    "          -axes 0,1"
   ]
  },
  {
   "cell_type": "code",
   "execution_count": null,
   "metadata": {},
   "outputs": [],
   "source": [
    "# As before, we compute residuals\n",
    "mrcalc $SUBJECTDIR'preprocessing/dwi_denoise.nii.gz' \\\n",
    "       $SUBJECTDIR'preprocessing/dwi_denoise_degibbs.nii.gz' \\\n",
    "       -subtract $SUBJECTDIR'preprocessing/dwi_denoise_degibbs_residual.nii.gz'"
   ]
  },
  {
   "cell_type": "code",
   "execution_count": null,
   "metadata": {},
   "outputs": [],
   "source": [
    "# We also compute absolute residual (which are less usuful for degibbs)\n",
    "mrabs $SUBJECTDIR'preprocessing/dwi_denoise_degibbs_residual.nii.gz' \\\n",
    "      $SUBJECTDIR'preprocessing/dwi_denoise_degibbs_ABSresidual.nii.gz'"
   ]
  },
  {
   "cell_type": "code",
   "execution_count": null,
   "metadata": {},
   "outputs": [],
   "source": []
  },
  {
   "cell_type": "code",
   "execution_count": null,
   "metadata": {},
   "outputs": [],
   "source": []
  },
  {
   "cell_type": "code",
   "execution_count": null,
   "metadata": {},
   "outputs": [],
   "source": []
  },
  {
   "cell_type": "code",
   "execution_count": null,
   "metadata": {},
   "outputs": [],
   "source": []
  }
 ],
 "metadata": {
  "kernelspec": {
   "display_name": "Bash",
   "language": "bash",
   "name": "bash"
  },
  "language_info": {
   "codemirror_mode": "shell",
   "file_extension": ".sh",
   "mimetype": "text/x-sh",
   "name": "bash"
  }
 },
 "nbformat": 4,
 "nbformat_minor": 4
}
